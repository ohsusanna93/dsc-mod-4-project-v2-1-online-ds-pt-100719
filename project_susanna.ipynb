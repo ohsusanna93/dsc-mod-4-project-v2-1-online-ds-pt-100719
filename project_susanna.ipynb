{
 "cells": [
  {
   "cell_type": "markdown",
   "metadata": {},
   "source": [
    "Final Project Submission\n",
    "\n",
    "* Student name: Susanna Han\n",
    "* Student pace: part time\n",
    "* Scheduled project review date/time: 07/05/2020\n",
    "* Instructor name: James Irving\n",
    "* Blog post URL: "
   ]
  },
  {
   "cell_type": "markdown",
   "metadata": {},
   "source": [
    "# Introduction"
   ]
  },
  {
   "cell_type": "markdown",
   "metadata": {},
   "source": [
    "We are building a model that can rate the sentiment of a tweet based on its content. The tweet reviews are on the following products and services.\n",
    "\n",
    "\n",
    "- IPhone\n",
    "- Ipad\n",
    "- Apple Apps (Iphone/Ipad)\n",
    "- Other Apple product or service \n",
    "\n",
    "\n",
    "- Google\n",
    "- Android\n",
    "- Android Apps\n",
    "- Other Google product or service \n"
   ]
  },
  {
   "cell_type": "markdown",
   "metadata": {},
   "source": [
    "Using a Natural Language Processing model allows us to analyze text data, which makes analyzing the score of the 9,093 product tweets possible. Finding the correlation and important features of the positive and negative feedback helps provide insight to the products and services being reviewed. \n",
    "\n",
    "\n",
    "The data set we used has three columns which includes the tweet (the review), which product the review is referring to, and whether or not the review was positive, negative, or neutral. \n",
    "\n"
   ]
  },
  {
   "cell_type": "markdown",
   "metadata": {},
   "source": [
    "Below are all libraries and programs used in building our models:"
   ]
  },
  {
   "cell_type": "code",
   "execution_count": 1,
   "metadata": {},
   "outputs": [
    {
     "name": "stderr",
     "output_type": "stream",
     "text": [
      "[nltk_data] Downloading package wordnet to\n",
      "[nltk_data]     /Users/susannahan/nltk_data...\n",
      "[nltk_data]   Package wordnet is already up-to-date!\n"
     ]
    }
   ],
   "source": [
    "import pandas as pd\n",
    "import numpy as np\n",
    "import nltk\n",
    "nltk.download('wordnet')\n",
    "from nltk import FreqDist\n",
    "from nltk import word_tokenize\n",
    "from nltk.corpus import stopwords\n",
    "from nltk import regexp_tokenize\n",
    "from nltk.tokenize import TweetTokenizer\n",
    "from ipywidgets import interact\n",
    "from nltk.stem.wordnet import WordNetLemmatizer\n",
    "from wordcloud import WordCloud\n",
    "import string\n",
    "import re\n",
    "import matplotlib.pyplot as plt\n",
    "import matplotlib.colors as mcolors\n",
    "import seaborn as sns\n",
    "%matplotlib inline\n",
    "from sklearn.feature_extraction.text import TfidfVectorizer\n",
    "from sklearn.naive_bayes import MultinomialNB\n",
    "from sklearn.model_selection import train_test_split, RandomizedSearchCV\n",
    "from sklearn.ensemble import RandomForestClassifier\n",
    "from sklearn import metrics\n",
    "from sklearn.metrics import accuracy_score\n",
    "from sklearn.tree import export_graphviz\n",
    "from IPython.display import Image  \n",
    "import warnings\n",
    "warnings.filterwarnings('ignore')"
   ]
  },
  {
   "cell_type": "markdown",
   "metadata": {},
   "source": [
    "Functions:"
   ]
  },
  {
   "cell_type": "code",
   "execution_count": 2,
   "metadata": {},
   "outputs": [],
   "source": [
    "def evaluate_model(y_test,y_pred,X_test,clf=None,\n",
    "                  scoring=metrics.recall_score,verbose=False,\n",
    "                   figsize = (10,4),\n",
    "                   display_labels=('Negative','Neutral','Positive')):\n",
    "    \"\"\"\n",
    "    Arguments needed to evaluate the model are y_test, y_pred, x_test, \n",
    "    the model, and display labels.\n",
    "    \n",
    "    Evaluate_model prints out the precision, recall, and f1-score score. As well as accuracy, \n",
    "    macro average, and weighted average.\n",
    "    \n",
    "    Below, a Confusion Matrix visual shows the percentage of how accurate the model fit both predicted and actual\n",
    "    values. \n",
    "    \n",
    "    \"\"\"\n",
    "    ## Classification Report / Scores \n",
    "    print(metrics.classification_report(y_test,y_pred))\n",
    "    # plots Confusion Matrix\n",
    "    metrics.plot_confusion_matrix(clf,X_test,y_test,cmap=\"Blues\",\n",
    "                                  normalize='true', \n",
    "                                  display_labels = display_labels)\n",
    "    #plt.title('Confusion Matrix')\n",
    "    plt.show()\n",
    "\n",
    "    try: \n",
    "        df_important = plot_importance(clf)\n",
    "    except:\n",
    "        df_important = None\n",
    "        "
   ]
  },
  {
   "cell_type": "code",
   "execution_count": 3,
   "metadata": {},
   "outputs": [],
   "source": [
    "def plot_importance(tree_clf, top_n=20,figsize=(10,8)):\n",
    "    \"\"\" Arguments needed to plot an importance bar graph is the model, number of features to display, and \n",
    "    desired figsize for the graph. \n",
    "    \n",
    "    This function displays a bar graph of top 20 important features from most to least important.\"\"\"\n",
    "    \n",
    "    #calculates which feature was used the most in the model.\n",
    "    df_importance = pd.Series(tree_clf.feature_importances_,vectorizer.get_feature_names())\n",
    "    \n",
    "    #sorts 20 important features data in ascending order\n",
    "    df_importance.sort_values().tail(20).plot(\n",
    "        kind='barh', figsize=figsize)\n",
    "\n",
    "    #graph labels\n",
    "    \n",
    "    #plt.title('Top Important Features')\n",
    "    plt.xlabel('Features Importance')\n",
    "    plt.ylabel('Features')\n",
    "\n",
    "\n",
    "    plt.show() \n",
    "\n",
    "    return df_importance"
   ]
  },
  {
   "cell_type": "markdown",
   "metadata": {},
   "source": [
    "# Observations"
   ]
  },
  {
   "cell_type": "markdown",
   "metadata": {},
   "source": [
    "First, we import the data and look through the dataset and make observations of what to change in the dataset to build a good model."
   ]
  },
  {
   "cell_type": "code",
   "execution_count": 4,
   "metadata": {},
   "outputs": [],
   "source": [
    "df = pd.DataFrame(pd.read_csv('tweets.csv', encoding = 'unicode_escape'))\n",
    "#importing the dataset"
   ]
  },
  {
   "cell_type": "code",
   "execution_count": 5,
   "metadata": {},
   "outputs": [
    {
     "data": {
      "text/html": [
       "<div>\n",
       "<style scoped>\n",
       "    .dataframe tbody tr th:only-of-type {\n",
       "        vertical-align: middle;\n",
       "    }\n",
       "\n",
       "    .dataframe tbody tr th {\n",
       "        vertical-align: top;\n",
       "    }\n",
       "\n",
       "    .dataframe thead th {\n",
       "        text-align: right;\n",
       "    }\n",
       "</style>\n",
       "<table border=\"1\" class=\"dataframe\">\n",
       "  <thead>\n",
       "    <tr style=\"text-align: right;\">\n",
       "      <th></th>\n",
       "      <th>tweet_text</th>\n",
       "      <th>emotion_in_tweet_is_directed_at</th>\n",
       "      <th>is_there_an_emotion_directed_at_a_brand_or_product</th>\n",
       "    </tr>\n",
       "  </thead>\n",
       "  <tbody>\n",
       "    <tr>\n",
       "      <th>0</th>\n",
       "      <td>.@wesley83 I have a 3G iPhone. After 3 hrs twe...</td>\n",
       "      <td>iPhone</td>\n",
       "      <td>Negative emotion</td>\n",
       "    </tr>\n",
       "    <tr>\n",
       "      <th>1</th>\n",
       "      <td>@jessedee Know about @fludapp ? Awesome iPad/i...</td>\n",
       "      <td>iPad or iPhone App</td>\n",
       "      <td>Positive emotion</td>\n",
       "    </tr>\n",
       "    <tr>\n",
       "      <th>2</th>\n",
       "      <td>@swonderlin Can not wait for #iPad 2 also. The...</td>\n",
       "      <td>iPad</td>\n",
       "      <td>Positive emotion</td>\n",
       "    </tr>\n",
       "    <tr>\n",
       "      <th>3</th>\n",
       "      <td>@sxsw I hope this year's festival isn't as cra...</td>\n",
       "      <td>iPad or iPhone App</td>\n",
       "      <td>Negative emotion</td>\n",
       "    </tr>\n",
       "    <tr>\n",
       "      <th>4</th>\n",
       "      <td>@sxtxstate great stuff on Fri #SXSW: Marissa M...</td>\n",
       "      <td>Google</td>\n",
       "      <td>Positive emotion</td>\n",
       "    </tr>\n",
       "  </tbody>\n",
       "</table>\n",
       "</div>"
      ],
      "text/plain": [
       "                                          tweet_text  \\\n",
       "0  .@wesley83 I have a 3G iPhone. After 3 hrs twe...   \n",
       "1  @jessedee Know about @fludapp ? Awesome iPad/i...   \n",
       "2  @swonderlin Can not wait for #iPad 2 also. The...   \n",
       "3  @sxsw I hope this year's festival isn't as cra...   \n",
       "4  @sxtxstate great stuff on Fri #SXSW: Marissa M...   \n",
       "\n",
       "  emotion_in_tweet_is_directed_at  \\\n",
       "0                          iPhone   \n",
       "1              iPad or iPhone App   \n",
       "2                            iPad   \n",
       "3              iPad or iPhone App   \n",
       "4                          Google   \n",
       "\n",
       "  is_there_an_emotion_directed_at_a_brand_or_product  \n",
       "0                                   Negative emotion  \n",
       "1                                   Positive emotion  \n",
       "2                                   Positive emotion  \n",
       "3                                   Negative emotion  \n",
       "4                                   Positive emotion  "
      ]
     },
     "execution_count": 5,
     "metadata": {},
     "output_type": "execute_result"
    }
   ],
   "source": [
    "df.head()"
   ]
  },
  {
   "cell_type": "markdown",
   "metadata": {},
   "source": [
    "One of the first observations we see is that the column names are very long and make it more difficult to recall and work with. Therefore, they were modified and renamed to tweets, product, and emotion as shown below."
   ]
  },
  {
   "cell_type": "code",
   "execution_count": 6,
   "metadata": {
    "scrolled": true
   },
   "outputs": [],
   "source": [
    "df.rename(columns = {'tweet_text':'tweets', 'emotion_in_tweet_is_directed_at': 'product', \n",
    "              'is_there_an_emotion_directed_at_a_brand_or_product': 'emotion'}, inplace=True)"
   ]
  },
  {
   "cell_type": "code",
   "execution_count": 7,
   "metadata": {},
   "outputs": [
    {
     "name": "stdout",
     "output_type": "stream",
     "text": [
      "<class 'pandas.core.frame.DataFrame'>\n",
      "RangeIndex: 9093 entries, 0 to 9092\n",
      "Data columns (total 3 columns):\n",
      " #   Column   Non-Null Count  Dtype \n",
      "---  ------   --------------  ----- \n",
      " 0   tweets   9092 non-null   object\n",
      " 1   product  3291 non-null   object\n",
      " 2   emotion  9093 non-null   object\n",
      "dtypes: object(3)\n",
      "memory usage: 213.2+ KB\n"
     ]
    }
   ],
   "source": [
    "df.info()"
   ]
  },
  {
   "cell_type": "code",
   "execution_count": 8,
   "metadata": {},
   "outputs": [
    {
     "data": {
      "text/plain": [
       "(9093, 3)"
      ]
     },
     "execution_count": 8,
     "metadata": {},
     "output_type": "execute_result"
    }
   ],
   "source": [
    "df.shape\n",
    "#shows the shape of our dataframe - 9093 rows and 3 columns."
   ]
  },
  {
   "cell_type": "markdown",
   "metadata": {},
   "source": [
    "### Finding missing values."
   ]
  },
  {
   "cell_type": "code",
   "execution_count": 9,
   "metadata": {
    "scrolled": true
   },
   "outputs": [
    {
     "name": "stdout",
     "output_type": "stream",
     "text": [
      "Product Missing Values: 5802\n",
      "Tweets Missing Values: 1\n",
      "Emotion Missing Values: 0\n"
     ]
    }
   ],
   "source": [
    "print (f'Product Missing Values:', df['product'].isna().sum())\n",
    "# 5802 out of 9093 rows are missing product. \n",
    "print ('Tweets Missing Values:',df['tweets'].isna().sum())\n",
    "print ('Emotion Missing Values:',df['emotion'].isna().sum())"
   ]
  },
  {
   "cell_type": "markdown",
   "metadata": {},
   "source": [
    "We have decided to keep all missing values in the product column to add more data to the correlation between tweet and emotion. The one missing row from the tweets column is dropped because it adds no value to the dataset."
   ]
  },
  {
   "cell_type": "code",
   "execution_count": 10,
   "metadata": {},
   "outputs": [],
   "source": [
    "df['tweets'].dropna(inplace=True)"
   ]
  },
  {
   "cell_type": "code",
   "execution_count": 11,
   "metadata": {},
   "outputs": [
    {
     "data": {
      "text/plain": [
       "0"
      ]
     },
     "execution_count": 11,
     "metadata": {},
     "output_type": "execute_result"
    }
   ],
   "source": [
    "df['tweets'].isna().sum()"
   ]
  },
  {
   "cell_type": "markdown",
   "metadata": {},
   "source": [
    "Now that we have taken care of the missing values we look into all the categories in each columns. In the \"emotion\" column we see that there are 4 categories and the \" I can't tell \" category only having 1% of the data. Therefore, dropping that category as it does not provide much information needed and is only a small portion of the dataset. "
   ]
  },
  {
   "cell_type": "code",
   "execution_count": 12,
   "metadata": {},
   "outputs": [
    {
     "data": {
      "text/plain": [
       "No emotion toward brand or product    0.592654\n",
       "Positive emotion                      0.327505\n",
       "Negative emotion                      0.062686\n",
       "I can't tell                          0.017156\n",
       "Name: emotion, dtype: float64"
      ]
     },
     "execution_count": 12,
     "metadata": {},
     "output_type": "execute_result"
    }
   ],
   "source": [
    "df['emotion'].value_counts(normalize=True)\n",
    "#shows percentage of each value in column. \n",
    "#neutral - 59%\n",
    "#positive - 33%\n",
    "#negative - 6%\n",
    "#unknown - 2%"
   ]
  },
  {
   "cell_type": "code",
   "execution_count": 13,
   "metadata": {},
   "outputs": [],
   "source": [
    "#drop I can't tell from column 'emotion'\n",
    "df.drop(df.loc[df['emotion']==\"I can't tell\"].index, inplace=True)"
   ]
  },
  {
   "cell_type": "markdown",
   "metadata": {},
   "source": [
    "### Data Distribution"
   ]
  },
  {
   "cell_type": "code",
   "execution_count": 14,
   "metadata": {},
   "outputs": [
    {
     "data": {
      "text/plain": [
       "No emotion toward brand or product    5389\n",
       "Positive emotion                      2978\n",
       "Negative emotion                       570\n",
       "Name: emotion, dtype: int64"
      ]
     },
     "execution_count": 14,
     "metadata": {},
     "output_type": "execute_result"
    }
   ],
   "source": [
    "df['emotion'].value_counts()\n",
    "#All \"I can't tell\" rows has successfully been dropped from the column."
   ]
  },
  {
   "cell_type": "code",
   "execution_count": 15,
   "metadata": {
    "scrolled": false
   },
   "outputs": [
    {
     "data": {
      "image/png": "[encoded data removed]",
      "text/plain": [
       "<Figure size 432x288 with 1 Axes>"
      ]
     },
     "metadata": {
      "needs_background": "light"
     },
     "output_type": "display_data"
    }
   ],
   "source": [
    "y= df[\"emotion\"].value_counts()\n",
    "ax = sns.barplot(y.index, y.values, palette=\"hls\")\n",
    "ax.set_title('Number of Neutral, Positive, and Negative Emotion in Data')\n",
    "ax.set(xlabel='Emotion', ylabel='Number of Data')\n",
    "ax.set_xticklabels(ax.get_xticklabels(), rotation=40, ha=\"right\")\n",
    "plt.show();"
   ]
  },
  {
   "cell_type": "markdown",
   "metadata": {},
   "source": [
    "We are able to see the imbalance in our dataset as there are many more neutral tweets than there are positive and negative. Therefor we are going to separate the data into it's individual dataset to extract information from what is given."
   ]
  },
  {
   "cell_type": "markdown",
   "metadata": {},
   "source": [
    "# Processing Data"
   ]
  },
  {
   "cell_type": "markdown",
   "metadata": {},
   "source": [
    "After cleaning out the dataset we started to clean the text in the tweets column to properly train the model to process the given text. We use word_tokenize to separate each word and punctuation to more accurately get rid of empty spaces/words when using stopwords. "
   ]
  },
  {
   "cell_type": "code",
   "execution_count": 16,
   "metadata": {},
   "outputs": [],
   "source": [
    "corpus = df['tweets']"
   ]
  },
  {
   "cell_type": "code",
   "execution_count": 17,
   "metadata": {},
   "outputs": [
    {
     "data": {
      "text/plain": [
       "0    .@wesley83 I have a 3G iPhone. After 3 hrs twe...\n",
       "1    @jessedee Know about @fludapp ? Awesome iPad/i...\n",
       "2    @swonderlin Can not wait for #iPad 2 also. The...\n",
       "3    @sxsw I hope this year's festival isn't as cra...\n",
       "4    @sxtxstate great stuff on Fri #SXSW: Marissa M...\n",
       "5    @teachntech00 New iPad Apps For #SpeechTherapy...\n",
       "6                                                  NaN\n",
       "7    #SXSW is just starting, #CTIA is around the co...\n",
       "8    Beautifully smart and simple idea RT @madebyma...\n",
       "9    Counting down the days to #sxsw plus strong Ca...\n",
       "Name: tweets, dtype: object"
      ]
     },
     "execution_count": 17,
     "metadata": {},
     "output_type": "execute_result"
    }
   ],
   "source": [
    "corpus[:10]"
   ]
  },
  {
   "cell_type": "markdown",
   "metadata": {},
   "source": [
    "## Stop Words List"
   ]
  },
  {
   "cell_type": "markdown",
   "metadata": {},
   "source": [
    "Stopwords is a list of common words that do not add meaning to a sentence. Bigrams identifies words in pairs which helps in finding sentiment analysis. We created a list of stopwords to apply to the tokenized text for each category. A 'more_punc' list was created to add to the stopwords list that were common in the data texts that didn't add any value."
   ]
  },
  {
   "cell_type": "code",
   "execution_count": 18,
   "metadata": {},
   "outputs": [],
   "source": [
    "stopwords_list = stopwords.words('english')\n",
    "\n",
    "more_punc = ['--',\"'\",'...','\\\\','.','%',',','sxsw','link','mention','rt','austin',\n",
    "            'rise_austin','link','{','}','-','&',';','iphone','apple','ipad',\n",
    "            'quot','also','marissa','google','app','#sxsw', '@mention']\n",
    "\n",
    "stopwords_list+=string.punctuation\n",
    "stopwords_list.extend(more_punc)"
   ]
  },
  {
   "cell_type": "markdown",
   "metadata": {},
   "source": [
    "### Positive Emotion Data"
   ]
  },
  {
   "cell_type": "code",
   "execution_count": 19,
   "metadata": {},
   "outputs": [],
   "source": [
    "positive_df = df.loc[df['emotion']==\"Positive emotion\"]"
   ]
  },
  {
   "cell_type": "code",
   "execution_count": 20,
   "metadata": {
    "scrolled": true
   },
   "outputs": [
    {
     "data": {
      "text/html": [
       "<div>\n",
       "<style scoped>\n",
       "    .dataframe tbody tr th:only-of-type {\n",
       "        vertical-align: middle;\n",
       "    }\n",
       "\n",
       "    .dataframe tbody tr th {\n",
       "        vertical-align: top;\n",
       "    }\n",
       "\n",
       "    .dataframe thead th {\n",
       "        text-align: right;\n",
       "    }\n",
       "</style>\n",
       "<table border=\"1\" class=\"dataframe\">\n",
       "  <thead>\n",
       "    <tr style=\"text-align: right;\">\n",
       "      <th></th>\n",
       "      <th>tweets</th>\n",
       "      <th>product</th>\n",
       "      <th>emotion</th>\n",
       "    </tr>\n",
       "  </thead>\n",
       "  <tbody>\n",
       "    <tr>\n",
       "      <th>1</th>\n",
       "      <td>@jessedee Know about @fludapp ? Awesome iPad/i...</td>\n",
       "      <td>iPad or iPhone App</td>\n",
       "      <td>Positive emotion</td>\n",
       "    </tr>\n",
       "    <tr>\n",
       "      <th>2</th>\n",
       "      <td>@swonderlin Can not wait for #iPad 2 also. The...</td>\n",
       "      <td>iPad</td>\n",
       "      <td>Positive emotion</td>\n",
       "    </tr>\n",
       "    <tr>\n",
       "      <th>4</th>\n",
       "      <td>@sxtxstate great stuff on Fri #SXSW: Marissa M...</td>\n",
       "      <td>Google</td>\n",
       "      <td>Positive emotion</td>\n",
       "    </tr>\n",
       "    <tr>\n",
       "      <th>7</th>\n",
       "      <td>#SXSW is just starting, #CTIA is around the co...</td>\n",
       "      <td>Android</td>\n",
       "      <td>Positive emotion</td>\n",
       "    </tr>\n",
       "    <tr>\n",
       "      <th>8</th>\n",
       "      <td>Beautifully smart and simple idea RT @madebyma...</td>\n",
       "      <td>iPad or iPhone App</td>\n",
       "      <td>Positive emotion</td>\n",
       "    </tr>\n",
       "  </tbody>\n",
       "</table>\n",
       "</div>"
      ],
      "text/plain": [
       "                                              tweets             product  \\\n",
       "1  @jessedee Know about @fludapp ? Awesome iPad/i...  iPad or iPhone App   \n",
       "2  @swonderlin Can not wait for #iPad 2 also. The...                iPad   \n",
       "4  @sxtxstate great stuff on Fri #SXSW: Marissa M...              Google   \n",
       "7  #SXSW is just starting, #CTIA is around the co...             Android   \n",
       "8  Beautifully smart and simple idea RT @madebyma...  iPad or iPhone App   \n",
       "\n",
       "            emotion  \n",
       "1  Positive emotion  \n",
       "2  Positive emotion  \n",
       "4  Positive emotion  \n",
       "7  Positive emotion  \n",
       "8  Positive emotion  "
      ]
     },
     "execution_count": 20,
     "metadata": {},
     "output_type": "execute_result"
    }
   ],
   "source": [
    "positive_df[:5]"
   ]
  },
  {
   "cell_type": "code",
   "execution_count": 21,
   "metadata": {},
   "outputs": [],
   "source": [
    "pos_corpus = positive_df['tweets'].head()"
   ]
  },
  {
   "cell_type": "code",
   "execution_count": 22,
   "metadata": {},
   "outputs": [
    {
     "data": {
      "text/plain": [
       "1    @jessedee Know about @fludapp ? Awesome iPad/i...\n",
       "2    @swonderlin Can not wait for #iPad 2 also. The...\n",
       "4    @sxtxstate great stuff on Fri #SXSW: Marissa M...\n",
       "7    #SXSW is just starting, #CTIA is around the co...\n",
       "8    Beautifully smart and simple idea RT @madebyma...\n",
       "Name: tweets, dtype: object"
      ]
     },
     "execution_count": 22,
     "metadata": {},
     "output_type": "execute_result"
    }
   ],
   "source": [
    "pos_corpus[:10]"
   ]
  },
  {
   "cell_type": "code",
   "execution_count": 23,
   "metadata": {},
   "outputs": [],
   "source": [
    "string = ','.join(str(v) for v in pos_corpus)\n",
    "patterns = [r\"(http?://\\w*\\.\\w*/+\\w+)\",\n",
    "            r'\\#\\w*',\n",
    "            r'RT [@]?\\w*:',\n",
    "            r'\\@\\w*',\n",
    "            r\"(?=\\S*['-])([a-zA-Z'-]+)\"]\n",
    "            \n",
    "clean_pos_corpus = re.sub('|'.join(patterns), '', string)"
   ]
  },
  {
   "cell_type": "code",
   "execution_count": 24,
   "metadata": {},
   "outputs": [
    {
     "data": {
      "text/plain": [
       "' Know about  ? Awesome iPad/iPhone app that  likely appreciate for its design. Also,  giving free Ts at , Can not wait for  2 also. They should sale them down at ., great stuff on Fri : Marissa Mayer (Google), Tim  (tech books/conferences) &amp; Matt Mullenweg (Wordpress), is just starting,  is around the corner and  is only a hop skip and a jump from there, good time to be an  fan,Beautifully smart and simple idea RT   wrote about our  iPad app for ! '"
      ]
     },
     "execution_count": 24,
     "metadata": {},
     "output_type": "execute_result"
    }
   ],
   "source": [
    "clean_pos_corpus"
   ]
  },
  {
   "cell_type": "code",
   "execution_count": 25,
   "metadata": {},
   "outputs": [],
   "source": [
    "pos_tokens = nltk.word_tokenize(clean_pos_corpus)"
   ]
  },
  {
   "cell_type": "code",
   "execution_count": 26,
   "metadata": {},
   "outputs": [
    {
     "data": {
      "text/plain": [
       "['Know',\n",
       " 'about',\n",
       " '?',\n",
       " 'Awesome',\n",
       " 'iPad/iPhone',\n",
       " 'app',\n",
       " 'that',\n",
       " 'likely',\n",
       " 'appreciate',\n",
       " 'for']"
      ]
     },
     "execution_count": 26,
     "metadata": {},
     "output_type": "execute_result"
    }
   ],
   "source": [
    "pos_tokens[:10]"
   ]
  },
  {
   "cell_type": "code",
   "execution_count": 27,
   "metadata": {},
   "outputs": [],
   "source": [
    "pos_tokenized = [word.lower() for word in pos_tokens if word.lower() not in stopwords_list]"
   ]
  },
  {
   "cell_type": "code",
   "execution_count": 28,
   "metadata": {},
   "outputs": [
    {
     "data": {
      "text/plain": [
       "['know',\n",
       " 'awesome',\n",
       " 'ipad/iphone',\n",
       " 'likely',\n",
       " 'appreciate',\n",
       " 'design',\n",
       " 'giving',\n",
       " 'free',\n",
       " 'ts',\n",
       " 'wait']"
      ]
     },
     "execution_count": 28,
     "metadata": {},
     "output_type": "execute_result"
    }
   ],
   "source": [
    "pos_tokenized[:10]"
   ]
  },
  {
   "cell_type": "code",
   "execution_count": 29,
   "metadata": {},
   "outputs": [
    {
     "data": {
      "text/plain": [
       "[('know', 1),\n",
       " ('awesome', 1),\n",
       " ('ipad/iphone', 1),\n",
       " ('likely', 1),\n",
       " ('appreciate', 1),\n",
       " ('design', 1),\n",
       " ('giving', 1),\n",
       " ('free', 1),\n",
       " ('ts', 1),\n",
       " ('wait', 1)]"
      ]
     },
     "execution_count": 29,
     "metadata": {},
     "output_type": "execute_result"
    }
   ],
   "source": [
    "pos_freq = FreqDist(pos_tokenized)\n",
    "pos_freq.most_common(10)"
   ]
  },
  {
   "cell_type": "code",
   "execution_count": 30,
   "metadata": {
    "scrolled": true
   },
   "outputs": [
    {
     "data": {
      "text/plain": [
       "[('know', 'awesome'),\n",
       " ('awesome', 'ipad/iphone'),\n",
       " ('ipad/iphone', 'likely'),\n",
       " ('likely', 'appreciate'),\n",
       " ('appreciate', 'design'),\n",
       " ('design', 'giving'),\n",
       " ('giving', 'free'),\n",
       " ('free', 'ts'),\n",
       " ('ts', 'wait')]"
      ]
     },
     "execution_count": 30,
     "metadata": {},
     "output_type": "execute_result"
    }
   ],
   "source": [
    "list(nltk.bigrams(pos_tokenized[:10]))"
   ]
  },
  {
   "cell_type": "markdown",
   "metadata": {},
   "source": [
    "### Negative Emotion Data"
   ]
  },
  {
   "cell_type": "code",
   "execution_count": 31,
   "metadata": {},
   "outputs": [],
   "source": [
    "negative_df = df.loc[df['emotion']==\"Negative emotion\"]"
   ]
  },
  {
   "cell_type": "code",
   "execution_count": 32,
   "metadata": {},
   "outputs": [
    {
     "data": {
      "text/html": [
       "<div>\n",
       "<style scoped>\n",
       "    .dataframe tbody tr th:only-of-type {\n",
       "        vertical-align: middle;\n",
       "    }\n",
       "\n",
       "    .dataframe tbody tr th {\n",
       "        vertical-align: top;\n",
       "    }\n",
       "\n",
       "    .dataframe thead th {\n",
       "        text-align: right;\n",
       "    }\n",
       "</style>\n",
       "<table border=\"1\" class=\"dataframe\">\n",
       "  <thead>\n",
       "    <tr style=\"text-align: right;\">\n",
       "      <th></th>\n",
       "      <th>tweets</th>\n",
       "      <th>product</th>\n",
       "      <th>emotion</th>\n",
       "    </tr>\n",
       "  </thead>\n",
       "  <tbody>\n",
       "    <tr>\n",
       "      <th>0</th>\n",
       "      <td>.@wesley83 I have a 3G iPhone. After 3 hrs twe...</td>\n",
       "      <td>iPhone</td>\n",
       "      <td>Negative emotion</td>\n",
       "    </tr>\n",
       "    <tr>\n",
       "      <th>3</th>\n",
       "      <td>@sxsw I hope this year's festival isn't as cra...</td>\n",
       "      <td>iPad or iPhone App</td>\n",
       "      <td>Negative emotion</td>\n",
       "    </tr>\n",
       "    <tr>\n",
       "      <th>17</th>\n",
       "      <td>I just noticed DST is coming this weekend. How...</td>\n",
       "      <td>iPhone</td>\n",
       "      <td>Negative emotion</td>\n",
       "    </tr>\n",
       "    <tr>\n",
       "      <th>38</th>\n",
       "      <td>@mention  - False Alarm: Google Circles Not Co...</td>\n",
       "      <td>Google</td>\n",
       "      <td>Negative emotion</td>\n",
       "    </tr>\n",
       "    <tr>\n",
       "      <th>64</th>\n",
       "      <td>Again? RT @mention Line at the Apple store is ...</td>\n",
       "      <td>NaN</td>\n",
       "      <td>Negative emotion</td>\n",
       "    </tr>\n",
       "  </tbody>\n",
       "</table>\n",
       "</div>"
      ],
      "text/plain": [
       "                                               tweets             product  \\\n",
       "0   .@wesley83 I have a 3G iPhone. After 3 hrs twe...              iPhone   \n",
       "3   @sxsw I hope this year's festival isn't as cra...  iPad or iPhone App   \n",
       "17  I just noticed DST is coming this weekend. How...              iPhone   \n",
       "38  @mention  - False Alarm: Google Circles Not Co...              Google   \n",
       "64  Again? RT @mention Line at the Apple store is ...                 NaN   \n",
       "\n",
       "             emotion  \n",
       "0   Negative emotion  \n",
       "3   Negative emotion  \n",
       "17  Negative emotion  \n",
       "38  Negative emotion  \n",
       "64  Negative emotion  "
      ]
     },
     "execution_count": 32,
     "metadata": {},
     "output_type": "execute_result"
    }
   ],
   "source": [
    "negative_df[:5]"
   ]
  },
  {
   "cell_type": "code",
   "execution_count": 33,
   "metadata": {},
   "outputs": [],
   "source": [
    "neg_corpus = negative_df['tweets']"
   ]
  },
  {
   "cell_type": "code",
   "execution_count": 34,
   "metadata": {},
   "outputs": [
    {
     "data": {
      "text/plain": [
       "0      .@wesley83 I have a 3G iPhone. After 3 hrs twe...\n",
       "3      @sxsw I hope this year's festival isn't as cra...\n",
       "17     I just noticed DST is coming this weekend. How...\n",
       "38     @mention  - False Alarm: Google Circles Not Co...\n",
       "64     Again? RT @mention Line at the Apple store is ...\n",
       "67     attending @mention iPad design headaches #sxsw...\n",
       "68     Boooo! RT @mention Flipboard is developing an ...\n",
       "92     What !?!? @mention  #SXSW does not provide iPh...\n",
       "103    Know that &quot;dataviz&quot; translates to &q...\n",
       "170    Seriously #sxsw? Did you do any testing on the...\n",
       "Name: tweets, dtype: object"
      ]
     },
     "execution_count": 34,
     "metadata": {},
     "output_type": "execute_result"
    }
   ],
   "source": [
    "neg_corpus[:10]"
   ]
  },
  {
   "cell_type": "code",
   "execution_count": 35,
   "metadata": {},
   "outputs": [],
   "source": [
    "string = ','.join(str(v) for v in neg_corpus)\n",
    "patterns = [r\"(http?://\\w*\\.\\w*/+\\w+)\",\n",
    "            r'\\#\\w*',\n",
    "            r'RT [@]?\\w*:',\n",
    "            r'\\@\\w*',\n",
    "            r\"(?=\\S*['-])([a-zA-Z'-]+)\"]\n",
    "clean_neg_corpus = re.sub('|'.join(patterns), '', string)"
   ]
  },
  {
   "cell_type": "code",
   "execution_count": 36,
   "metadata": {},
   "outputs": [
    {
     "data": {
      "text/plain": [
       "'. I have a 3G iPhone. After 3 hrs tweeting at , it was dead!  I need to upgrade. Plugin stations at ., I hope this  festival  as crashy as this  iPhone app. ,I just noticed DST is coming this weekend. How many iPhone users will be an hour late at SXSW come Sunday morning?  ,   False Alarm: Google Circles Not Coming Now\\x89ÛÒand Probably Not Ever?  {link}    ,Again? RT  Line at the Apple store is insane.. ,attending  iPad design headaches  {link},Boooo! RT  Flipboard is developing an iPhone version, not Android, says  ,What !?!?    does not provide iPhone chargers?!?   changed my mind about going next year!,Know that &quot;dataviz&quot; translates to &quot;satanic&quot; on an iPhone.  just . ,Seriously ? Did you do any testing on the mobile apps? Constant iPad crashes causing lost schedules, and no sync for WP7.,ipad2 and ...a conflagration of doofusness.  {link},You spent $1,000+ to come to SXSW. \\n\\n already used iPad 1. \\n\\nThe wait is a couple city blocks. \\n\\nWhy?   {}, up to 2 iPad 2s seen in the wild. Both people say it is fast, but the still pics are terrible. ,If iPhone alarms botch the timechange, how many  freak? Late to flights, missed panels, behind on bloody marys...,I meant I also wish I  at   stupid iPhone!,Found the app kyping my  geolocation &amp; not releasing when in background. Need a patch,   ,Of course Apple built a temp store in Austin.  Texas. They understand the concept of corralling cattle  ,\\x89ÛÏ Apple is opening up a temporary store in downtown Austin for  and the iPad 2 launch&quot; oh YAY more traffic.,&quot;The Apple store at the mall on Sunday is 10x as crowded as this. This line is fake. I just need a fucking dongle.&quot; Genius let me in. ,iPad news apps  last  at  {link},Overheard at  interactive: &quot;Arg! I hate the iphone! I want my blackberry back&quot; ,\\x89ÛÏ at : &quot;apple comes up with cool technology no  ever heard of because they  go to conferences&quot;\\x89Û\\x9d,overheard at MDW (and  second it) &quot;halfway through my iPhone battery already and I  even boarded the plane to &quot; ,they took away the lego pit but replaced it with a recharging station ;)  and i might check prices for an iphone  crap samsung android,. Bad Apple: shows up late, Qs the process,  ideas, leaves early. Can even be &; too creative&quot; or busy  ,Trying to balance the power of power needs on iPhone vs iPad at . This 3G iPad sucks it out quick. Might have go airplane mode.,My iPhone battery  keep up with my tweets! Thanks Apple.    ,\\x89ÛÏ Best thing  heard this weekend at  &quot;I gave my iPad 2 money to  relief. I  need an iPad 2.&quot;  ,Google vs Bing on . Bing has a shot at success w/ structured search.  Potentially higher margin CPA model vs . ,iPad 2 is coming out at , guess  pretty desperate to give it attention.,Shipments daily  follow   4 updates RT   Apple Store seems to be out of  iPad2s. ,IPhone is dead. Find me on the secret batphone .,Why Barry Diller thinks iPad only content is nuts    {link} ,In Japan: Docomo introduced mobile apps six years before Apple came out with app store.  ,Jeez guys dunno about an Apple  over a  Gym. Do u realize how  that is?  ,I need to find a better  stream to follow. The inane iPad 2 tweets are surely not what SouthBy is about,Austin is getting full, and  is underway.  I can tell because my iPhone is an intermittent brick. ,Length of Google penalty based on severity of breach of webmaster guidelines. i.e.white text on white bgr might get 30 day pen.  ,\\x89ÛÏ Google to Launch Major New Social Network Called Circles, Possibly Today {link} \\x89Û\\x9d \\n never beat myspace.,Hey  how bout donating all this $ your spending on the new  to Japan. Do you REALLY need that thing?,. I have a 3G iPhone. After 3 hrs tweeting at , it was dead!  I need to upgrade. Plugin stations at .,. I have a feeling  will be the worst place to try &amp; get an iPad 2 everyone there will be trying to get one. ,I thought I would use my iPad a lot during , but I  even touched it once.  Hmmzies.,google is interested in location based tech for indoor venues  businesses, convention centers etc.  Tech needs to improve first.  ,the first iPad  even exist here last year and I already feel like  pulling out an antique everytime I use my iPad  ,shoot, my ipad will not display any search results :( will have to go through questions later  ,The  iPhone app is mocking me. Like I have the money to be there  COME ON.,The  iPhone app is one of the worst  had to use in a very long time.,Disliking iPhone twitter auto shortening links for me. ,my iPhone is overheating. why are there so many british sounding people in texas? ,My iPhone is wilting under the stress of being at .,more that just location, PixieEngine! RT  Google says the future is location, location, location: {link}  ,iPhone, I know this  week will be tough on your  battery, but so help me Jeebus if you keep correcting my curse words.,Google to Launch Major New Social Network Called Circles (Updated) {link} *Not launched at , but soon. Should I care?,Google to launch product! Wait, no launch, but product exists.  Wait, product does not exist!  {link},God,  like being at   have iMac, MacBook, iPhone and BlackBerry all staring at me. Enough! Time to read a book  remember those?,ha, seems like it &gt; \\x89ÛÏ The only news at SXSWi was  temporary iPad store?  ?\\x89Û\\x9d,compiling my  list in one google doc is taking a lot longer than i thought... so many parties. so many good musicians.,Day 1 and my charger kicked the bucket. Where the heck is the Apple store  within walking distance? ,With just my iPhone and iPad on me, I feel very unequipped compared to everyone else. Dang! ,Hm? Do we need another 1? RT  Google to Launch Major New Social Network Called Circles, Possibly Today {link} ,Google is not launching anything during , just partying {link} ,&quot;All of  is nothing but a teeming sea of iPhone addicts too busy Twittering to ever engage with one anoth\\x89Û_ (cont) {link},Not a fan of a new  trend  audience sharing opinions via holding up an iPad. Not here to listen to you. ,Tomlinson of TX Observer says Apple subscription data holding is biggest impediment to success.  , to Open  Shop at SXSW {link} &; concept but I  spend my  waiting for the ,  packing a point by showing iphone fragmentation  ,I left my pocket guide at the hotel. I  know how  going to cope. What does that say about the usability of iPad/iPhone app? ,. Problem with Google Living Stories was the process of creating content  change  was just an interface.  ,BRILLIANT READ: Attention Marketers and Media Professionals: the iPad  save you by   {link}  ,L.A.M.E.  RT  &quot;...by the law of averages, better than Buzz&quot; RT  &quot;Google Circles will be ______ &quot;  ,New  rule: no more ooing and ahing over your new iPad. We get it. Its not a big deal. Everybody has one now... :),My iPhone says it  connect to the Internet even though  wifi works great on my computer. Any suggestions?,Q: Why do social sites like Delicious often have better results than Google or Bing?  ,Just read that  will be at  selling iPad 2 on release day. Good lord, the vortex of smugness that day may be unbearable.,\\x89ÛÏ The 10 most dangerous IPhone apps.  {link},So I went the whole day w/out my laptop &amp; just used my iPad 1. Things I missed: FTP, cloudapp, fast typing, &amp; skype.  ,You think there would be a  app for blackberry. Just when I gave iPhone the finger! Guess  have to carry around an ipad. LAME,People in this Apple store do not...smell great.   ,Thank you to  for letting me test drive a car to the Apple store. Now lets hope that they can fix my phone!! ,So we get to see google fail at social on another day RT  Okay, no Google Circles debuting at  today, Trajan: Google has destroyed the &lt;title&gt; tag  websites SEO them. Open Graph Protocol added a clean title tag instead ,Do i know u? Why u selling to me! Weve never talked. I now Hate your product! RT  check out Heyo 4 iPhone  ,Apple pop up store... line is ridic.   {link},Trying to update software (4.0) on iPhone to download  app. But so far no luck  wonder if  because phone is from Mexico.,Def could use an iPad for   today. Tweeting via iPhone sorta pretty much sux.,Dense una vuelta por   para ver la gran diferencia..RT  &quot;The revolution will be clumsily translated by Google.&quot;,\\x89÷¼ Why Are We Better Than ? \\x89÷_ {link} \\x89ã_      ,if   so cocky, perhaps a separate ipad2 store at  would have been a good idea. guess they  need the extra marketing;),Disgusted with my  battery life. Already down to 11% at 3:30 pm while my blackberry is going strong. ,Just when you thought &quot;social&quot;  get more overblown at , Google may be announcing &quot;Circles&quot; today: {link},   is the classiest fascist company in America. Really elegant.  ,Lost iPad, corrupted iPhone, and crazy hotels. Good times.   AUS  {link},At midday, iPhone at . This outlet, blocked by an immobile booth, serves no purpose but to taunt me.  {link},SXSW 2011: Novelty of iPad news apps fades fast among digital delegates {link} via   XIPAD,So true!!! RT   lost its way by caring too much for the business vs. the     ,SHITE APP. :( RT  New  for  now in the App Store includes UberGuide to  sponso\\x89Û_ (cont) {link},I know   because my iPhone has started lying to me about its signal strength.,  nexus s on  is 10x more useful than my iphone4 on AT&amp;T at . Is it because too many ppl have ?,... get Twitter searches to update in Hootsuite or Tweetdeck on iPad. ,    Paper phones?  Means an iPad will likely be useless at  as well. , &; worked at Google for over 11 years, so  seen a lot of evil.&quot;  ,At   iPad Design Headaches  avoiding the pitfalls of the new design challenges,Disaster = iPhone died in middle of  ...  function. heading to apple store.,The iPad 1 is so March 11, 2011 4:59PM PST. , 2011: Novelty of  news apps fades fast among digital delegates {link} via , 2011: Novelty of iPad news apps fades fast among digital delegates {link}, 2011: The  and  smackdown in all its bloody banality {link}, 2011: The  and  smackdown in all its bloody banality {link} via  ,Not even 10am here in Austin and my iPhone batt is at 54%  shit  ,Apple is a more selfish brand than Microsoft but it has served its brand well., about to talk at  on mistakes building   app,fucking mac users..... {link}  CWebb iPad Grant Hill,: iPad Design Headaches (Take Two Tablet and Call Me in the Morning) {link},Google Brain apologies for randy ads popping up with search results; algorithm skewed over weekend by randy queries from  attendees.,2+ hour wait at the makeshift Apple store for iPad 2.  , make sense to limit content to a specific platform, if  on the iPad it should be on the web  interview w/  ,Guy Kawasaki &quot;I believe in God because there is no other explanation for the continuous survival of Apple over the years.&quot;. LOL ,GroupMe talks about Apple App Store approval woes  there would be a big group of people that would agree with that!  , not all Apple love here at . Heard quite a bit of grumbling about holding back features on iPad 1 so people would have to buy v2.,Why does all the  meetups here in  are when  at work. Well at least there is the PS meetup ,  no NFC in  bc of standardization while  will have it , by an ipad 2 for the  camera, here is what you get: {link} , Android needs a way to group apps like you can now do with iPad/iPod.  ,Lonely Planet releases free Austin city guide iPhone app for . Like there  enough apps cluttering up your handset., another google social failure? ,Is there any way of deleting an app that  stop loading on the iPhone? Draining my power, but no  to cancel. Help me, .,A major  iOS update the day before ? What genius project manager came up with that brilliant idea? , Apple  store at  was 5 blocks long! ,Queue at Apple  Store at  still long!,Come on ! Why cant I have  without ? Must it be all or nothing?  , arg. It  load on me iPhone. Not via the app store or the site. Just trying to  it and am feelin so out of touch.,had to charge the  every 6hours here on . running it on lowest possible screen brightness. apple, fix your basics!,Is the Flash discussion still relevant?   iPad design headaches,Guy just asked  Mayer: it can take a year to remove deadly routes from Google Maps, such as through Death Valley ,NYT, WSJ at  ask: Is there a future for branded, native news apps on the iPad? {link} / no there is NOT!!, battery  last long under  usage,Marissa Mayer: Google maps should have better customer service, quicker responses.  ,Nothing says DOUCHE CAKE like walking around with a IPAD like  an Iphone ,really amazing to see so many people putting up with  Notes app on the iPad at ,really amazing to see so many people putting up with  Notes app on the iPad at :  {link}, Best thing  heard at  &quot;I gave my iPad 2 money to  relief. I  need an iPad 2.(  ,Too quotable &gt; RT \\x89ÛÏ &quot;Apple is the most elegant fascist company in America.&quot;  ,Will somebody write an app that lets me consistently type &quot;SHIT&quot; on my goddamn iphone? Hey  ... jump on that.,Should I buy an iPad for  at the makeshift  Apple Store on launch day? Fuck no, I respect him too much... ,The walk by Lady Bird Lake was lovely, but Google Maps travel times are not to be trusted. ,The iPad calendar = The Frankeninterface. Designed as one interface metaphor but uses another.  , :  &quot;No one uses Windows voluntarily.&quot; &quot;Apple is greatest collection of egomaniacs in history.&quot; haha, :  &quot;Sell your dream. Steve Jobs  say: iPhone is $188 of parts+AT&amp;T, made by ppl in suicidal Chinese,Just launched the  Apple Store at .  our &quot;vintage&quot; store format: Mostly iPods and snarky employees. Ah, the good old days.,Stupid technology! You always fail at important times! At  w/ an iPhone, laptop AND Blackberry and the only thing working is my ., official: people using the iPad 2 to take photos just look weird. ,Pretty excited for my iPhone to stop working  &amp;T,Trying 2 convince  2 watch the launch of google Social network at  . I  know there was going to be comedy?!,The data crunch at  is crippling Google Voice. Back to regular texting we go...,True,expect more insidious approaches, like Apple subscriptions. RT  {link} . Disgraceful.   ,  when bldg app for AppStore, need wholistic mktg awareness, p.r. strategy to drive adoption  just rely on Apple.  ,I composed a tweet so acerbic and cynical about ipad users that my phone crashed and dumped all my apps.   ,Google and Bing meet at  after their lovers tiff last month but it seems to have been disappointingly friendly {link},Google and Bing page rank panel is ridiculously crowded. Is Al Franken or Justin Timberlake here?  {link},Major iPad design flaw: the SXSW Go iPad app. It  stay open when you switch apps!  ,You should probably put that away... RT  at the Android party and kinda embarrassed by my iPhone ,So Annoyed with  schedule app that has bad  for iPad. My fingers  THAT fat, .,The forbidden apple has been spoiled! Long live ! They are rocking the  &amp;  world.,is a bit disappointed that the two iPad talks had so many overlapping examples ,Fest  be an iPhone douche.Put away your phone and talk to your fellow festgoers in lines, etc.All good people who love film. ,at the Android party and kinda embarrassed by my iPhone ,Can anybody get the  mobile apps to work?  downloaded Android, iPhone and BlackBerry and they all get stuck downloading on startup.,Srsly love   promo  Srsly hate that it excludes  Esp. since my iPad insists  at Disney ,New Iphone autocorrect already tried to change &quot;coworkers&quot; to &quot;visigoths.&quot; Its going to be a long five days of ,The iPhone battery was not made for  ,New circle game? RT    Google (tries again) to launch new social network called Circles: {link} ,What Apple hopes you  notice about iPad 2 {link}     ,the future is about networks, not just data.  why google may not win long term   ,Why are we leaning on web conventions like small buttons on the iPad?  ,LOL 2 true RT   official: people using the iPad 2 to take photos just look weird. , live stream not working on iPad  {link},Hmm... the sxsw.com/interactive/live stream  ipad/mobile compatible. Maybe next year. ,Would like to know which LBS app I downloaded has commandeered my  geolocation setting &amp;  relinquish.  ,Getting ready for &quot;iPad design headaches&quot; ,I never realized how shitty by iphone battery was until   charging every few hours,Several years too late? I think the trend of social apps is over...       ,why the heck  google maps use browser ? am I missing it somehow? using chrome.   ,Why the heck would anyone want Mozilla to switch to CrapKit (WebKit) when Gecko is good? Stupid Apple/Google bandwaggoners. ,Apple cited as the opposite of crowdsourcing  proprietary, Steve Jobs tells you what you want  ,just walked by the line for the iPad 2. Bahahahaha! at least 5 blocks long.  ,Just walked past the supposed   temp store downstairs  and the apple cult was outside taking photos on iphones.,Google prefers to launch hyped new Social features with meh, not bang? via TC {link} ,Like in Vegas during , the iPhone is best used as a hand warmer at ., panel: &quot;Staying Alive: Can indie iPhone game development survive?&quot; Kind of a downer... They should try ! ,Note to self: downside of tweeting on an white iPad 2 expect to be mocked.  ,Google seems to have sabotaged my YouTube account  WTF? Are they trying to OWN the entire online ecosystem?  VERY BAD FORM ,To my friends at  who think I abandoned you, in reality I just  have any means of communication, my iPhone stopped working. ,What happened to the Taxi Magic iPhone app? Now all I can do is call the cabs via it ,Ha! RT  Google guy at  talk is explaining how he made realistic Twitter bots as an experiment. Gee, thanks for doing that.,Oh no utter   fail.  see the letter of the ballroom in the iPhone app as it is too long and  wrap /cc ,Gamechanger like Wave and Buzz no doubt RT  Google to Launch Major New Social Network Called Circles {link} ,It is never more apparent than at  how nice it would be if apple made stuff w/ removable batteries.  ,iPhone users at   any of you have your GPS stuck on? Is one of the new geo app updates doing it? FourSquare/gowalla?,Apple takes bruises from panelists. Not well regarded in sustainability space.  Corporate Sustainability Reporting and Transparency.  ,Apple likes it if you pay them.  what Apple likes.  Barry Diller ,The dailies on iPad are going to ... still impossible to download (20 MB and up downloads) ,google presentation by Mayer is a sales pitch  ,Sooo... Design for iPads session is just an hour long ad for me to buy and iPad and apps? ? ,In iPad Design Headaches: Take Two Tablets, Call Me in the AM panel  excited to hear  live! ,It was awesome to hear Marissa Mayer acknowledge that Google Maps needs to increase support for its product b/c of incorrect routes. ,The SXXpress line is almost as long as the Apple line.  {link}, is exposing my  horrendous battery life.,Novelty of  news  fades fast among digital delegates  Aron Pilhofer of the NYT &amp; Khoi Vinh {link}   ,Outside of 9:30 panels which 75% of people skip I can barely get anything to work on my iPhone.  needs to shrink by 10k people.,Novelty of iPad news apps fades fast among  delegates  by  {link},Pollak, if  having so much trouble the  sell through apple...duh  ,Turning off Twitter until  is over and  is forgotten.,kicking off w/  talking iPad design headaches ,Why is wifi working on my laptop but neither that nor 3g on my iphone? grrr. , for the life of me, I  get my iPad to sync all the sessions, only partial. iPhone is fine, iPad is deciding what it wants. ,Cab ride from hell to get to Apple store at mall. They were sold out. Getting dinner then have to figure how how to get back to hotel. ,Navigating a crowded party sucks. But its way worse when everyone walks around with their face in their iPhone.  , admits that iPhone app for Wordpress is not very good yet. Which is very true. Respect his honesty and awareness ,Best thing  heard this weekend at  &quot;I gave my iPad 2 money to  relief. I  need an  2.&quot;  , glad  not got a faulty iPhone then.  go down well for   battery dies 5 times quicker. Hope  knows.,&quot;google has too many products, and needs to condense them&quot;   (FYI  they have NINE mobile products),&quot;Google looks for technical solutions, which why  not great at community because  a human solution.&quot; ,&quot;Google to Launch Major New Social Network.&quot; really dont need another social network...{link} ,IPad Design Headaches. interface metaphor. Looks like a book, make it behave like a book. Simple stuff, but often forgotten. ,iPad design malady: iPad Elbow  I hate the  back button with the heat of a million suns.  ,I  go to  because  still using an iPhone 3G.   , good job  ! went home &amp; watched season 1 of the guild =D. sucks that your tweet abt the iphone hijack is a top tweet lol,My  Google calendar is getting a little out of control, Google Circles will be Lame.  &lt;3,I think  lost their way by caring too much about their business (instead of their users) Tim   ,Who uses Google TV in this room? Nobody raises a hand in a packed room at the  session at ,Lunch with  at . View from the HTML5 dev trenches: Android is painful, iOS is sleek (for what  is doing) ,Open graph did repair the damage google did to the title tag.  , math: if my flight leaves at 6:45 AM and the clocks go ahead at 2 and my iphone alarm will not go off what time do i miss my flight?, Ha! I feel like the only person at  with a /iPad!,iPad2 in hand thanks to the Popup Apple Store at . First impression: I may have a lemon. Backlight has some bleed thru at the bottom.,Beware, the android  app for schedules is completely innacurate. Just walked to the hyatt for no reason ,Data is the new oil. (Companies like Google and Facebook have monopoly and terms of service to be wary of)   ,Kara Swisher: Apple is the most stylish fascist company in America ,Well, Cashmore just gave the new iPad a crushing .   ,RIP my iPhone 4: June 2010   . You survived a severe drop, but could not evade drowning. {link},95% of iPhone and Droid apps have less than 1,000 downloads total. ,Tomorrow I go back to the Apple store... *sigh* , I hate typing on an iPad. So, yeah, THE Ken Calhoun is this man, the real deal! And I am bringing my laptop to  Sun., I hope this  festival  as crashy as this  iPhone app. , I meant iTunes  work for me (IE:  run Apple software, even if it would run on my Ubuntu desktop).  Not just  dl, I outdid myself this time with the tech . iPhone=broken. Might be the worst thing that can ever happen at ,  glad I  have an iPad 2 ... I think. ,  going to   meet up! I  use  yet because I have an Android phone but show me how it works!,  guessing there will not be an  app in time for ?,Totalitarian thought in action: People worldwide come to Austin, TX for  and decide to spend their time in line at an Apple Store.,It is ridiculous to see someone taking a photo during a session with their iPad. Cannot wait to see concert use.  , If I were you,  stay away from the Apple Store tomorrow , if it makes you feel better  fanbois were acting like giggling schoolgirls in front of Marissa Mayer  ,Related: if u have Verizon, u will do better.  bandwidth issue. My BlackBerry always tweeted when my iPhone dawdled. , design/UI tip: \\x89ÛÏbuttons are a hack  them with skepticism \\x89ÛÏ  ,Farmers like Blackberry smart phones because  &; last long on the farm&quot;.  ,Tablets like the iPad and Xoom where touch emulates a /keyboard input means  not there yet.   ,Techie Fail RT  One  panel moderator who is from Europe says he spent $3000 in roaming charges on his iPhone at SXSW 2010.,Content will move back to the browser. Why replicate the work on an iPad when u can press one button?   ,Mad mad lines still at the  Apple pop up store here in Austin , thinking that I may actually have to take my laptop to . The iPad alone may not be enough on this trip.,Been playing w/ the Windows7 phone here at .The animation is better than an iphone&amp; it does look very interesting!, Instagram, but  iPhone only at the moment mister &quot;Has to be cool and different and get an EVO&quot; that SUCKS. ,Hey  got invited to a new group at  and your Android app keeps crashing when I try to join! WTF? ,hey  twitter needs a way for us in disaster areas to filter out things like  and  too because right now we really  care,Hey  your app  download from the Android app market. Just a heads up ,Guy with iPad 2 taking photos of  slides. Awkward! , iPad app getting panned for design trumping content, and rightfully so. ,Fuck the iphone! RT  New  for  now in the App Store includes UberGuide to  ... {link}, is about to talk about the mistakes he made building Netflix for the iPhone.  ,Bad news is it costs $1,000? RT  Louis Vuitton has an iPhone app. Called Amble  ,My row this morning two people hand writing notes, one person on a Blackberry and me on a   proof Apple  a monopoly at ,Many  iPad content enhancements are like th worst David Foster Wallace  kinda interesting but mostly irrelevant. ,iPhone crisis at  Phone is stuck on silver logo screen. Has been for last 15 minutes. Help?,I cant wait to give the SAMSUNG people a demo of my horrible, terrible Google Nexus S phone at ,And now, it  pull from website to iPhone. Awesome. Glad I wasted that time.   ,You know  bad with you have to  just to see/use your calendar.    ,  the next step of Google becoming Skynet. ,The Netflix iPhone app was built to a &quot;ridiculous deadline&quot;. Big mistake on the  part to agree to it ,First talk of the day : iPad design headaches. ,Josh Clark:  I hate the  back button with the heat of a million suns.   ,Google takes the mantra of  be  to heart, yet their pride in their products make them guilty of the 7th deadly sin, Superbia ,Why is all the prizes at  apple products? Sigh,Cant handle  traffic? RT  Dear  your own app for iPhone has sucked all day. ,This double buzzing issue with iPhone iOS 4.3 is getting annoying. In other news, an iPhone may fly across the room at  ,&quot;Apple is the most elegant fascist company in America.&quot;  ,Have Google launched their next social media flop yet? ,&quot;Apple likes it if you pay them.  what Apple likes.&quot;  Barry Diller  ( ACC  Ballroom D) [pic]: {link}, apple store run out for the day :( boo apple.,Dear google, your photobooth sucks. ,&quot;Apple: the most elegant fascist corporation in America today.&quot;  Kara Swisher  ,About to learn all about design headaches for iPad ,Barry Diller says  magazines like The Daily  make sense, {link} ,Barry Diller says that  silly if you write content for one form factor only. Apple like it because they get money ,Barry  pragmatic and straight forward which is nice. Looks like he wants us to grab pitchforks vs. Apple , Go  you rate &amp; review sessions (although the experience on the iPhone is a bit torturous).,Google will eat itself      Hilton {link},Google will not launch Facebook competitor Circles   today as thought, creeper  the world over disappointed.,And it will suck. RT  RT  Google will preview major new social service, Circles, at  today {link},Look at all these people at  with iPad 1. No shame.,I feel silly but cannot figure out how to update the  mobile app on android. It  seem to have &quot;options&quot; (bottom left button)?,I was really hoping  would bring an Android version of  Oh well, maybe someday...a long time from now.,Will overload of info delivered by Google kill discovery? Google says ppl  lose curiosity, but I wonder...We need serendipity. , love what  do at . How come  getting login authorization error almost every time I open my app on iPhone?,After failure of Google buzz, Google Latitude, now Google Circle! Seriously Google needs to concentrate more on search!   ,You finally get everyone to buy in to Facebook and then Google introduces Circle. No fair. Stop with all the innovation, people ,You finally get everyone to buy in to Facebook and then Google introduces Circles. No fair. Stop with all the innovation, people , Might need to go to Apple today. I think my &quot;S&quot; &quot;X&quot; and &quot;W&quot; keys are worn out. ,just got mine &amp; i disagree RT   Peter Cashmore on iPad 2  only a minor improvement Not worth it unless  $ 2 burn ,Nope, seems no Google Circles launch today: {link} , my  iPhone app has been down for a few days. Heading to  and want to tweet a lot  can you help?, my iPhone crashed &amp; I had to do a fresh restore &amp; lost my fave Dali/canvas pak? Can I ever get it back? Also are you  ?,Ahhh, darn :( RT    according to  Google has confirmed it is not launching at , if at all.,Please can I hear more people talk about the iPad 2, preferrably with more  hashtags   I really have a deficit of this in my life!,this woman is great  fessing up to issues, admitting google could do better ,Sitting on the floor behind a guy  fondling his new iPad 2 in a very disturbing way. ,Grrr..plancast stuff exported to Google calendar in San Diego/pacific time did not shift to central tme  ,line around the corner for  at , i say wait on it.  already got two cameras on my  sorry ,Bereft wanderer. White cord, limp. Lifeless. There is no outlet for your iPhone here.  ,Man panhandling for an iPad 2 at SXSW. What\\x89Ûªs the world coming to?    ,This iPhone  app would b pretty awesome if it  crash every 10mins during extended browsing.  ,SXSW iPhone app is awesome, but iPad app crashes every time. ,Does anyone have an address for the yeasayer concert tonight? Google maps is failing. ,I asked one of the booth people if  paid every single booth here to show their product on iPad2s. She said no.  ,the internet blurs, {link} the iPad fades, {link} \\x89ÛÒ  at ,interesting &quot; &quot;Google looks for technical solutions which why  not great  community because its a human solution \\x89Û\\x9d,My tweeting from  been pretty non existent today thanks to the  iPhone app   Hootsuite is the epic replacement! ,I was going to mock the  for coming to  only to stand in a 4 line for an iPad 2. Then I remembered me and horror movies.,Is starting to think my  is more like the  of phones. Damn u .  (I just wanted  abacus), Nice  song   Don\\x89Ûªt hack, Write Rails. Under deliver, over sell. Work for Google. {link}, No, no, no .. I  buy an iPad 2.  wait for the iPad 3 with teleporting capabilities. ,This technology  happen on an   Nokia  ,There is nothing sillier than watching people record video with an ipad. ,Agreed \\x89ÛÓ Novelty of  news  fades fast among digital delegates \\x89ÛÓ {link}    (via ,In the  &quot;Worst Company in America 2011&quot; tournament bracket  apple is pitted against microsoft in the first round ,I fully anticipate that every  will be toting an iPad 2 at . These people are also why  not worth going.,I am inventing a &quot;dislike&quot; button for  2 lines. {link} ,  das Verpixelungsrecht\\x89ÛÓthe right for your house to be pixelated in Google Street View\\x89ÛÓ is a theft from the public,Grrrr  not muting  as thought on web or iphone :(,Organic unveils BroadFeed, social news app for ipad. Audience gets up and heads for the door. ,Mayer also admits that Google needs to &quot;step up&quot; its customer support for Google Maps. , to expensive mobile data plans are killing the flavor of contextual discovery abroad  ,Decided to go to LA instead of , because my AT&amp;T iPhone would be about as useful as a brick in Austin.,Heading to iPad Design Headaches in Hilton  Salon J ,Excited to meet the  at  so I can show them my Sprint Galaxy S still running Android 2.1.   ,iPhone too old for  schedule app. Oh noes.  , no way that you an call the iPad count at  reasonable. I think  one for every 2 people.,Apple autocorrect is so weird. Ogilvy autocorrects to idiocy.   :),Google product showcases never feel that cool. No price tag, brand equity, wow factor attached.  marissa mayer,Cashmere of Mashable: Thinks the iPad 2 is not a huge step up. Now waiting for the Apple PR team to parachute into the  session.,Andrew K of PRX equates the homogeneity of the Apple ecosystem w predictability, vs  wild west.    ,Aron Pilhofer of the New York Times and design guru Khoi Vinh express scepticism about iPad news apps at  {link},RT   lost its way by caring too much for the business vs. the     ,RT   technology  happen on an   Nokia  ,MT  (Swisher calls Apple &quot;the classiest fascist company in America&quot;  ,RT     False Alarm: Google Circles Not Coming Now\\x89ÛÒand Probably Not Ever?  {link}    ,RT   iPad app getting panned for design trumping content, and rightfully so. ,RT   Peter Cashmore on the iPad 2:  only a minor improvement. Not worth it unless you have money to burn. ,RT  &quot;   is the classiest fascist company in America. Really elegant.&quot;  ,RT  &quot;Apple is the most elegant fascist company in America.&quot;  ,RT  &quot;Apple: the most elegant fascist corporation in America today.&quot;  Kara Swisher  ,RT  &quot;Google looks for technical solutions, which why  not great at community because  a human solution.&quot; ,RT  &quot;I believe in God because there is no other explanation for  continued existence.&quot; Guy Kawasaki  ,RT  &quot;multiple approaches to monetization&quot; re: iPhone game dev &quot;but ads would cheapen our product&quot; ok, good luck with that ,RT  &; a reason why Google  in social  they are too technical.&quot;  ,RT   Trajan: Google has destroyed the &lt;title&gt; tag  websites SEO them. Open Graph Protocol added a clean title tag instead ,RT    reporting: Janecek: Microsoft gives $ to charity. Apple gives nothing. Everyone in room has iPhone. What drives that decision?,RT   :  &quot;No one uses Windows voluntarily.&quot; &quot;Apple is greatest collection of egomaniacs in history.&quot; haha,RT   2011: The Google and Bing smackdown in all its bloody banality (Guardian) {link} via ,RT   ipad store sold out of everything except 64gig wifi only white,RT   rumor mill: iPad 3 will have between 6 and 15 cameras, slightly thinner rare earths case, and &quot;different&quot; but still smudgy screen.,RT   WAZE {link} is duking it out with google re: personalized mapping experience. Friendly &quot;panel crashing&quot;,RT  : iPad Design Headaches (Take Two Tablet and Call Me in the Morning) {link},RT    is glad there are no standard  navigation tools. She might be the only one! ,Diabetes on a plate. Thanks Google, already have that covered. {link} ,RT  Agreed \\x89ÛÓ Novelty of  news  fades fast among digital delegates \\x89ÛÓ {link}    (via ,RT  And it will suck. RT  RT  Google will preview major new social service, Circles, at  today {link},RT  Anyone who was going to buy a new iPad should donate to   victims instead. ,RT  Apparently, if you Google &quot;ad preferences&quot; and  see what Google thinks  like.   ,RT  Apple autocorrect is so weird. Ogilvy autocorrects to idiocy.   :),RT  Apple is &quot;the classiest, fascist company in America,&quot; says  ,RT  Apple...&quot;the classiest fascist company in America&quot; Kara Swisher ,RT  Best thing  heard this weekend at  &quot;I gave my iPad 2 money to  relief. I  need an iPad 2.&quot; (,RT  Best thing  heard this weekend at  &quot;I gave my iPad 2 money to  relief. I  need an iPad 2.&quot; ( ,RT  Best thing  heard this weekend at  &quot;I gave my iPad 2 money to  relief. I  need an iPad 2.&quot; ,RT  Best thing  heard this weekend at  &quot;I gave my iPad 2 money to  relief. I  need an iPad 2.&quot; &lt;Amen!&gt;,RT  Best thing  heard this wknd   &quot;I gave my iPad 2 money 2  relief. I  need iPad 2&quot;( ),RT  Brought up how Google Maps had rerouted all images of JCPenney to images of Macys or trashy restraunts. They had no comment  ,RT  Decided to go to LA instead of , because my AT&amp;T iPhone would be about as useful as a brick in Austin.,RT  Deleting the  iPhone app!  {link},RT  DELICIOUSLY IRONIC GOOGLE PRIVACY PARTY MADE WHOLE BY &quot;BANKING CARTEL,  DICTATORSHIP TAKEOVER&quot; CAB RANT! ,RT  Diller on Google TV: &quot;The first product  good. It  a consumer product, basically.&quot;  ,RT  Epic.  just one guy waiting in line for the iPad 2 in Austin at SXSW. {link}   ,RT  False Alarm: Google Circles Not Coming Now, And Probably Not Ever {link}  so much for reports that it would unveil at ,RT  Fest  be an iPhone douche.Put away your phone and talk to your fellow festgoers in lines, etc.All good people who love film. ,RT  Finally fed up with , Julian screamed &quot;I got your  zone right here, pigfucker!&quot; and threw his iPad at some kid. ,RT  Fodder for  panel at : &quot;Right to Forget&quot; gains traction in Europe, causing issues for Google {link},RT  forward to delicious  4G here in Austin while iPhone users struggle to do anything. ,RT  Found the app kyping my  geolocation &amp; not releasing when in background. Need a patch,   ,RT  Google Circles will be toast if it  convince facebook users to start an account (or interface with FB)   ,RT  Google  rate restaurants and get personalized recos on where to eat. Um, think foursquare, yelp, etc have this covered already. ,RT  Google Latina and see what you find? Porn...this is the first impression that people get about us?    \\x89Û\\x9d,RT  google presentation by Mayer is a sales pitch  ,RT  Google to Launch Major New Social Network Called Circles, Possibly Today at  rww.to/f6BCEt |  more overload,RT  Google vs Bing on . Bing has a shot at success w/ structured search.  Potentially higher margin CPA model vs . ,RT  Google was incapable of doing disruptive  and acquired 89 startups over the last few years   ,RT  Hipsters w/ oversized earphones pluged into the new IPAD make me happy that Texas has such loose gun laws ,RT  Hm? Do we need another 1? RT  Google to Launch Major New Social Network Called Circles, Possibly Today {link} ,RT  Hmm... the sxsw.com/interactive/live stream  ipad/mobile compatible. Maybe next year. ,RT  I cant wait to give the SAMSUNG people a demo of my horrible, terrible Google Nexus S phone at ,RT  I feel like my iPhone: Always on, always doing something, running out of battery fast. ,RT  I have yet to walk into a conference room where it  look like an Apple ad.  think there was nothing else. ,RT  I know   because my iPhone has started lying to me about its signal strength.,RT  I think  lost their way by caring too much about their business (instead of their users) Tim   ,RT  I think my effing hubby is in line for an  2. Can someone point him towards the  for wife number .  ,RT  If you have an iPad DO NOT upgrade to the newest iOS yet, TweetDeck is very unstable on it    ,RT  In a room full of geeks talking TV,  just asked, &quot;Who uses Google TV?&quot; No one raised hand.  ,RT  iPad design headaches with Josh Clark    {link},RT  iPad design malady: iPad Elbow  I hate the  back button with the heat of a million suns.  ,RT  Ironic? I googled the directions to  party and ended up walked 6 blocks in the wrong direction. Time for bed I think. ,RT  It is ridiculous to see someone taking a photo during a session with their iPad. Cannot wait to see concert use.  ,RT   official: people using the iPad 2 to take photos just look weird. ,RT  Josh Clark:  I hate the  back button with the heat of a million suns.   ,RT  Just read that  will be at  selling iPad 2 on release day. Good lord, the vortex of smugness that day may be unbearable.,RT  Just saw someone take a picture with an iPad 2 for the first time. Looks as ridiculous as  expect.  ,RT  Line for Source Code is even longer than for iPad 2. Take that, Apple. ,RT  Lonely Planet releases free Austin city guide iPhone app for . Like there  enough apps cluttering up your handset.,RT  New  rule: no more ooing and ahing over your new iPad. We get it. Its not a big deal. Everybody has one now... :),RT  New Iphone autocorrect already tried to change &quot;coworkers&quot; to &quot;visigoths.&quot; Its going to be a long five days of ,RT  Not a fan of a new  trend  audience sharing opinions via holding up an iPad. Not here to listen to you. ,RT  Note to self: downside of tweeting on an white iPad 2 expect to be mocked.  ,RT  Nothing says DOUCHE CAKE like walking around with a IPAD like  an Iphone ,RT  Novelty of iPad news apps fades fast among  delegates  by  {link},RT  Part of Journalsim is the support of democracy, yes? Informed populous, yes? iPad, as a focus, does not support that  ,RT  RT    to Launch Major New Social Network Called , Possibly Today! {link}   &gt;&gt;Really Google? Now?,RT  RT  Apple is &quot;the classiest, fascist company in America,&quot; says  ,RT  RT  forward to delicious  4G here in Austin while iPhone users struggle to do anything. ,RT  RT  Sound of My Voice was shot exploiting Apple &amp; Best  14 return policy on iMacs. Brilliant. ,RT  Slides from  talk, &quot;iPad Design Headaches &quot; {link}  . Really interesting for designers as well.,RT  speaks truth: Watched  staff at the temp  store just high five entire long line and facepalmed. Ugh. ,RT  SXSW 2011: Novelty of iPad news apps fades fast among digital delegates {link} ,RT  Temp Apple Store 6th St  Austin  closed for night &; out of  says Austin cops barring the door!,RT  Temporary  apple store. Apple being sneaky as usual  {link},RT  the future is about networks, not just data.  why google may not win long term   ,RT  The iPad 2 is the also a cartoonishly large digital camera.   {link},RT  This group next to me has 6 ppl  the table. Everyone is using thier phone/ipad instead of taking to each other. ,RT  Who uses Google TV in this room? Nobody raises a hand in a packed room at the  session at ,RT  Will overload of info delivered by Google kill discovery? Google says ppl  lose curiosity, but I wonder...We need serendipity. ,RT  Woman in lobby: &; a website called, like, stupid iPhone speller, and  ppl taking pics of funny autocorrected words.&quot; ,RT  yes, i hate the fanboys. still valid  to those that waited for the iPad2 instead of enjoying : {link}, iPhone app: control mania! Half of the screen used for buttons and filters, other half for content. ,Fuck. iPhone crapped out, will not charge at all. Says it is charging, but at 5% after all night. What are my options in Austin? ,Damn it Google! Your  cup leaked  goo in my camera bag! ,It just looks stupid to take pix with an iPad 2  believe me guys  ,Apple is opening a temporary store in Austin for . Because people obviously want to shell out $1500 for a MacBook while visiting Austin,Apple is opening a temporary store in Austin for . Because people obviously want to shell out $1500 for a MacBook.,Google dropped real estate search b/c to do it right,  need to invest much more than  willing to at the moment. ,NYT app for iPad: not &; an amazing way to serve our readership,&quot; more &; a market opportunity we  ignore.&quot;  ,Looking forward to delicious  4G here in Austin while iPhone users struggle to do anything.  ,Looking forward to the day when  and  release native Android 3.0  clients! Google Latitude sucks! ,Both Microsoft and Google are ripping us off too {link} :(  a Joomla! wannabe logo  {link},Yea!!! Another Google product that  available for Google Apps yet: Google Hotpot. ,&quot;No other reason for  continued survival than the existence of God&quot;      ,Twitter you have failed me for the last time *force chokes iPhone* , a tougher crowd than Colin Quinn RT  Hey Marissa Mayer Please tell us something new Not about products Google launched months ago,But are your phones staying charged? My crappy  would never handle ! RT    no sleep crazyfest!!!!!!,Part of Journalsim is the support of democracy, yes? Informed populous, yes? iPad, as a focus, does not support that  ,Checking out iPad Design Headaches (2 Tablets, Call in the Morning).\\n{link}   ,Brought up how Google Maps had rerouted all images of JCPenney to images of Macys or trashy restraunts. They had no comment  ,Put the iPad down idiot!  ,Just stopped at the pop up Apple store.....lame!z!  Come on Apple you can still cut the weight in half. , Peter Cashmore on the iPad 2:  only a minor improvement. Not worth it unless you have money to burn. , Apple Store seems to be out of  iPad2s. ,Clearly Apple has another daylight savings time bug with the iPhone 4 alarm. Also need to remember to fix my  clocks. Whoops. ,Why the Apple  shop at  sucks: {link},Ughhh...Apple Store Austin at the Domain rain out of 3G iPads in first 25 minutes right before I got in  ,All LBS apps on my iPhone think I am in Orlando :)) ! I guess I have 2 check in at Disney vs  :)),Attended preso on living simply  at   and felt a bit guilty taking notes on a new ,Apple...&quot;the classiest fascist company in America&quot; Kara Swisher ,Is twitter broken? Or is it my iPad.  follow the SXSW hash right now. Wow, that might be my nerdiest tweet yet.  .,Okay, fair enough lining up for new tech, but not at the cost of ... It is so much better than a new iPad... {link},Headed for iPad Design Headaches (2 Tablets, Call in the Morning)  {link},Design for iPad is like a design 101 class. Will someone give a talk and assume that we  all ditch our previous experience ,  reporting: Janecek: Microsoft gives $ to charity. Apple gives nothing. Everyone in room has iPhone. What drives that decision?,I can hear those ipad 2 nutters ipading away even now. Such is life in the techno hipster Mecca. ,Apps distract pubs, sez Khoi Vinh. Instead of focusing on reader exp,  delivering same content 3 ways.   {link},How frustrating is it that Zeldman autocorrects to Zelda on the iPhone?  ,Google Circles is (not) a real thing and will (not) be launched today at  {link},&quot;There is no other explanation for  continued survival than the existence of God&quot;  ,&; a reason why Google  in social  they are too technical.&quot;  ,Enough already .... \\x89ÛÏ Google to Launch Major New Social Network Called Circles, Possibly Today {link} \\x89Û\\x9d, really disappointed with the iPad app  lots of error messages have to switch to tweet deck for the rest of ,Farmers prefer Balckberries over iPhones and Andriod devices. More durable?  feelings?   ,Horrible repressed memories of the Apple spinning beach ball coming back at the  talk. , Respectfully disagree about the iphone. Battery life is a problem and it  as ubiquitous as it seems.  ,   Tried 2 days with iPAD, w/o MacBook Pro.  the experiment is over. I heart a real keyboard.,Google (tries again) to launch a new social network called Circles: {link}   ,False Alarm: Google Circles Not Coming Now\\x89ÛÒand Probably Not Ever?  {link}    ,iPad 2 turned into giant camera looks plain stupid ,Why is  not available in Canada for iPhone users?   Would love to check it out.,Or Droid RT  Has spontaniety in life been replaced by technology? When your iPhone battery dies you go home. Great ?  ,Will I survive  will only 1.6 gigs of space left on my iPhone? We shall see.,Guess everyone wanted to design ipad apps for their mom ,Steve Jobs  position the iPhone as a device made in China where suicide rates are high He sells dreams   ,&quot;This Google/Bing Q&amp;A panel is like the  most expensive SEO consultation.&quot;   ,Google was incapable of doing disruptive  and acquired 89 startups over the last few years   ,My friends iphone changed BACK an hour instead of forward. Its AT&amp;T. Any hints on how to fix it?!   ,iPhone GPS is messed up. Thinks  in Yonkers. Almost as good as . {link}, does the world really needs Google Circles, Fb will just implement it eventually,Hey Marissa Mayer. Please tell us something new. Not about products Google launched months ago. ,Anyone else having issues with gmail and using google services? .,Anyone else having trouble synching your schedule with the android sxsw go app? ,Anyone else with an iPhone getting the &quot;could not activate cellular data network&quot; error message? Is this a warning of  things to come?, set to fail for being too complicated by June. RT  Google set to launch new social network  today at , Should: if you  get iPad 1. : iPad2 3G 64GB + cover + $100 = MacBook Air. ,\\x89ÛÏThe classiest fascist company in existence\\x89Û\\x9d  Kara Swisher  ,Spending some time this morning resetting my android phone.  First day of  was too much for it.,Just saw someone take a picture with an iPad 2 for the first time. Looks as ridiculous as  expect.  ,Every person I see with a ipad looks crazy ,looks like they have a 80 cell phone in their hand  ,What a dissapointment!!! RT  New  for  now in the App Store includes UberGuide to  sponsored by (cont\\x89Û_,Google possibly  launching a social media service  again...  {link},Google lost its way by caring too much for the business vs. the     ,: Mistakes Made Building  for iPhone (Plus, How to See Its Source Code!) {link},: Mistakes Made Building Netflix for iPhone (Plus, How to See Its Source Code!) {link} via ,Opened yesterday. Line too long to wait in just to look.    Apple Store, SXSW {link},Yet the    store was flawless. RT  Apple iPad 2 Launch: Poor Planning On Apple\\x89Ûªs Part {link},Massive  fail to run out of   Should have had a semi full parked out front!  {link},I think  has taken it upon itself to make it clear to me that a Gen 1 iPhone  gonna cut it anymore.,My biggest frustration with  so far is no one looks where  going because glued to iPhone.,Is it just me or has the  client for Android gotten really buggy lately?  to blame?,Off to get my badge. Then to find food and drink. Then figure out why my  iPhone is NOT roaming at . Then unpack. Priorities,Proof that the iPad 2 turns you into a douchebag  {link},Looking at the line for the pop up  apple store...I  think of a single object I want that much.,I have yet to walk into a conference room where it  look like an Apple ad.  think there was nothing else. ,  up with the sxsw go app?  faulty. :(,tried installing  on my iphone but it crashes every time i open it. ,I just watched &quot;iPad Design Headaches&quot; at . Buttons are a hack.  ,Not to hate on the iPad, but fleets of nerds armed with iPads navigating through crowds is as far from cool as  EVER seen ,So,  for iPhone: anyway to remove/burn hashtags? Eg ? V v bored already, already,Deleting the  iPhone app!  {link}, the apple   is like a crack house for mac addicts,Apple is the classiest facist company in America.  Kara Swisher ,Oh no another way to talk shit on the net Google to Launch Major New Social Network Called Circles Possibly Today {link} ,  journalists. They just spent all their money on  passes. Who can afford Google TV?,I just noticed DST is coming this weekend. How many iPhone users will be an hour late at SXSW come Sunday morning?  ,Google Hotpot  &quot;Not as good as other services, but we will force it on you anyways.&quot; ,Perfect attention to detail RT  Google recreated the code for  for their doodle, original bugs included.  ,iPhone battery is going quickly. Guy behind me let me borrow his portable charger. I want one! {link} ,wow you suck {link} iPad  Rebecca Black , so ungrateful bc we have too much shit to play with. So turn off some of your shit (iPhone) now and then. ,Bad news update: the  Apple Store is out of iPads! Not sure if they will have more by tomorrow. ,Just because google patented something i.e. (Age of domain in rankings algorithm)  mean they use it  ,If you have an iPad DO NOT upgrade to the newest iOS yet, TweetDeck is very unstable on it    , have to wait 45 weeks for an iPad 2, but not at the  ! Shipments daily (via  ,ProTip: Avoid the  Apple stores on Friday , voxpop of  popular  apps is worth a watch: {link} Not many Android phones on ., know 1 user RT  Who uses Google TV in this room? Nobody raises a hand in a packed room at the  session at ,Dear  goer... Please look up from your fucking iPhone when walking the halls. Thanks Hipsters. Hilarious!,This  I am grateful for: my bicycle, having a  Twitter app. Cursing: losing an hour of zzzs, iPhone battery life.,Dear  iPhone app: you suck again this year! (sitby.us is great but  include film sessions),If there was a popup store in Austin that sold nothing but iPhone battery extenders, it would make so much money. ,   not popular with the . {link}  is a terrible concept anyway ,Hmmm...Taxi Magic on iPhone does not appear to be so magic any more in Austin ,Google guy at  talk is explaining how he made realistic Twitter bots as an experiment. Gee, thanks for doing that.,I think my effing hubby is in line for an  2. Can someone point him towards the  for wife number .  , pretty sure the panelist that thinks &quot;Apple is drowning in their success&quot; is fucking insane. ,Hey is anyone doing  signing up for the group texting app, groupme? got it on my iphone, but no one else is on it, so....kinda useless.,Diller says Google TV &quot;might be run over by the PlayStation and the Xbox, which are essentially ready today.&quot;  '"
      ]
     },
     "execution_count": 36,
     "metadata": {},
     "output_type": "execute_result"
    }
   ],
   "source": [
    "clean_neg_corpus"
   ]
  },
  {
   "cell_type": "code",
   "execution_count": 37,
   "metadata": {},
   "outputs": [],
   "source": [
    "neg_tokens = nltk.word_tokenize(clean_neg_corpus)"
   ]
  },
  {
   "cell_type": "code",
   "execution_count": 38,
   "metadata": {},
   "outputs": [],
   "source": [
    "neg_tokenized = [word.lower() for word in neg_tokens if word.lower() not in stopwords_list]"
   ]
  },
  {
   "cell_type": "code",
   "execution_count": 39,
   "metadata": {},
   "outputs": [
    {
     "data": {
      "text/plain": [
       "['3g',\n",
       " '3',\n",
       " 'hrs',\n",
       " 'tweeting',\n",
       " 'dead',\n",
       " 'need',\n",
       " 'upgrade',\n",
       " 'plugin',\n",
       " 'stations',\n",
       " 'hope',\n",
       " 'festival',\n",
       " 'crashy',\n",
       " 'noticed',\n",
       " 'dst',\n",
       " 'coming',\n",
       " 'weekend',\n",
       " 'many',\n",
       " 'users',\n",
       " 'hour',\n",
       " 'late',\n",
       " 'come',\n",
       " 'sunday',\n",
       " 'morning',\n",
       " 'false',\n",
       " 'alarm',\n",
       " 'circles',\n",
       " 'coming',\n",
       " 'now\\x89ûòand',\n",
       " 'probably',\n",
       " 'ever',\n",
       " 'line',\n",
       " 'store',\n",
       " 'insane..',\n",
       " 'attending',\n",
       " 'design',\n",
       " 'headaches',\n",
       " 'boooo',\n",
       " 'flipboard',\n",
       " 'developing',\n",
       " 'version',\n",
       " 'android',\n",
       " 'says',\n",
       " 'provide',\n",
       " 'chargers',\n",
       " 'changed',\n",
       " 'mind',\n",
       " 'going',\n",
       " 'next',\n",
       " 'year',\n",
       " 'know',\n",
       " 'dataviz',\n",
       " 'translates',\n",
       " 'satanic',\n",
       " 'seriously',\n",
       " 'testing',\n",
       " 'mobile',\n",
       " 'apps',\n",
       " 'constant',\n",
       " 'crashes',\n",
       " 'causing',\n",
       " 'lost',\n",
       " 'schedules',\n",
       " 'sync',\n",
       " 'wp7.',\n",
       " 'ipad2',\n",
       " 'conflagration',\n",
       " 'doofusness',\n",
       " 'spent',\n",
       " '1,000+',\n",
       " 'come',\n",
       " 'already',\n",
       " 'used',\n",
       " '1',\n",
       " 'wait',\n",
       " 'couple',\n",
       " 'city',\n",
       " 'blocks',\n",
       " '2',\n",
       " '2s',\n",
       " 'seen',\n",
       " 'wild',\n",
       " 'people',\n",
       " 'say',\n",
       " 'fast',\n",
       " 'still',\n",
       " 'pics',\n",
       " 'terrible',\n",
       " 'alarms',\n",
       " 'botch',\n",
       " 'timechange',\n",
       " 'many',\n",
       " 'freak',\n",
       " 'late',\n",
       " 'flights',\n",
       " 'missed',\n",
       " 'panels',\n",
       " 'behind',\n",
       " 'bloody',\n",
       " 'marys',\n",
       " 'meant',\n",
       " 'wish',\n",
       " 'stupid',\n",
       " 'found',\n",
       " 'kyping',\n",
       " 'geolocation',\n",
       " 'amp',\n",
       " 'releasing',\n",
       " 'background',\n",
       " 'need',\n",
       " 'patch',\n",
       " 'course',\n",
       " 'built',\n",
       " 'temp',\n",
       " 'store',\n",
       " 'texas',\n",
       " 'understand',\n",
       " 'concept',\n",
       " 'corralling',\n",
       " 'cattle',\n",
       " '\\x89ûï',\n",
       " 'opening',\n",
       " 'temporary',\n",
       " 'store',\n",
       " 'downtown',\n",
       " '2',\n",
       " 'launch',\n",
       " 'oh',\n",
       " 'yay',\n",
       " 'traffic.',\n",
       " 'store',\n",
       " 'mall',\n",
       " 'sunday',\n",
       " '10x',\n",
       " 'crowded',\n",
       " 'line',\n",
       " 'fake',\n",
       " 'need',\n",
       " 'fucking',\n",
       " 'dongle.',\n",
       " 'genius',\n",
       " 'let',\n",
       " 'news',\n",
       " 'apps',\n",
       " 'last',\n",
       " 'overheard',\n",
       " 'interactive',\n",
       " 'arg',\n",
       " 'hate',\n",
       " 'want',\n",
       " 'blackberry',\n",
       " 'back',\n",
       " '\\x89ûï',\n",
       " 'comes',\n",
       " 'cool',\n",
       " 'technology',\n",
       " 'ever',\n",
       " 'heard',\n",
       " 'go',\n",
       " 'conferences',\n",
       " '\\x89û\\x9d',\n",
       " 'overheard',\n",
       " 'mdw',\n",
       " 'second',\n",
       " 'halfway',\n",
       " 'battery',\n",
       " 'already',\n",
       " 'even',\n",
       " 'boarded',\n",
       " 'plane',\n",
       " 'took',\n",
       " 'away',\n",
       " 'lego',\n",
       " 'pit',\n",
       " 'replaced',\n",
       " 'recharging',\n",
       " 'station',\n",
       " 'might',\n",
       " 'check',\n",
       " 'prices',\n",
       " 'crap',\n",
       " 'samsung',\n",
       " 'android',\n",
       " 'bad',\n",
       " 'shows',\n",
       " 'late',\n",
       " 'qs',\n",
       " 'process',\n",
       " 'ideas',\n",
       " 'leaves',\n",
       " 'early',\n",
       " 'even',\n",
       " 'creative',\n",
       " 'busy',\n",
       " 'trying',\n",
       " 'balance',\n",
       " 'power',\n",
       " 'power',\n",
       " 'needs',\n",
       " 'vs',\n",
       " '3g',\n",
       " 'sucks',\n",
       " 'quick',\n",
       " 'might',\n",
       " 'go',\n",
       " 'airplane',\n",
       " 'mode.',\n",
       " 'battery',\n",
       " 'keep',\n",
       " 'tweets',\n",
       " 'thanks',\n",
       " '\\x89ûï',\n",
       " 'best',\n",
       " 'thing',\n",
       " 'heard',\n",
       " 'weekend',\n",
       " 'gave',\n",
       " '2',\n",
       " 'money',\n",
       " 'relief',\n",
       " 'need',\n",
       " '2.',\n",
       " 'vs',\n",
       " 'bing',\n",
       " 'bing',\n",
       " 'shot',\n",
       " 'success',\n",
       " 'w/',\n",
       " 'structured',\n",
       " 'search',\n",
       " 'potentially',\n",
       " 'higher',\n",
       " 'margin',\n",
       " 'cpa',\n",
       " 'model',\n",
       " 'vs',\n",
       " '2',\n",
       " 'coming',\n",
       " 'guess',\n",
       " 'pretty',\n",
       " 'desperate',\n",
       " 'give',\n",
       " 'attention.',\n",
       " 'shipments',\n",
       " 'daily',\n",
       " 'follow',\n",
       " '4',\n",
       " 'updates',\n",
       " 'store',\n",
       " 'seems',\n",
       " 'ipad2s',\n",
       " 'dead',\n",
       " 'find',\n",
       " 'secret',\n",
       " 'batphone',\n",
       " 'barry',\n",
       " 'diller',\n",
       " 'thinks',\n",
       " 'content',\n",
       " 'nuts',\n",
       " 'japan',\n",
       " 'docomo',\n",
       " 'introduced',\n",
       " 'mobile',\n",
       " 'apps',\n",
       " 'six',\n",
       " 'years',\n",
       " 'came',\n",
       " 'store',\n",
       " 'jeez',\n",
       " 'guys',\n",
       " 'dunno',\n",
       " 'gym',\n",
       " 'u',\n",
       " 'realize',\n",
       " 'need',\n",
       " 'find',\n",
       " 'better',\n",
       " 'stream',\n",
       " 'follow',\n",
       " 'inane',\n",
       " '2',\n",
       " 'tweets',\n",
       " 'surely',\n",
       " 'southby',\n",
       " 'getting',\n",
       " 'full',\n",
       " 'underway',\n",
       " 'tell',\n",
       " 'intermittent',\n",
       " 'brick',\n",
       " 'length',\n",
       " 'penalty',\n",
       " 'based',\n",
       " 'severity',\n",
       " 'breach',\n",
       " 'webmaster',\n",
       " 'guidelines',\n",
       " 'i.e.white',\n",
       " 'text',\n",
       " 'white',\n",
       " 'bgr',\n",
       " 'might',\n",
       " 'get',\n",
       " '30',\n",
       " 'day',\n",
       " 'pen',\n",
       " '\\x89ûï',\n",
       " 'launch',\n",
       " 'major',\n",
       " 'new',\n",
       " 'social',\n",
       " 'network',\n",
       " 'called',\n",
       " 'circles',\n",
       " 'possibly',\n",
       " 'today',\n",
       " '\\x89û\\x9d',\n",
       " 'never',\n",
       " 'beat',\n",
       " 'myspace.',\n",
       " 'hey',\n",
       " 'bout',\n",
       " 'donating',\n",
       " 'spending',\n",
       " 'new',\n",
       " 'japan',\n",
       " 'really',\n",
       " 'need',\n",
       " 'thing',\n",
       " '3g',\n",
       " '3',\n",
       " 'hrs',\n",
       " 'tweeting',\n",
       " 'dead',\n",
       " 'need',\n",
       " 'upgrade',\n",
       " 'plugin',\n",
       " 'stations',\n",
       " 'feeling',\n",
       " 'worst',\n",
       " 'place',\n",
       " 'try',\n",
       " 'amp',\n",
       " 'get',\n",
       " '2',\n",
       " 'everyone',\n",
       " 'trying',\n",
       " 'get',\n",
       " 'one',\n",
       " 'thought',\n",
       " 'would',\n",
       " 'use',\n",
       " 'lot',\n",
       " 'even',\n",
       " 'touched',\n",
       " 'hmmzies.',\n",
       " 'interested',\n",
       " 'location',\n",
       " 'based',\n",
       " 'tech',\n",
       " 'indoor',\n",
       " 'venues',\n",
       " 'businesses',\n",
       " 'convention',\n",
       " 'centers',\n",
       " 'etc',\n",
       " 'tech',\n",
       " 'needs',\n",
       " 'improve',\n",
       " 'first',\n",
       " 'first',\n",
       " 'even',\n",
       " 'exist',\n",
       " 'last',\n",
       " 'year',\n",
       " 'already',\n",
       " 'feel',\n",
       " 'like',\n",
       " 'pulling',\n",
       " 'antique',\n",
       " 'everytime',\n",
       " 'use',\n",
       " 'shoot',\n",
       " 'display',\n",
       " 'search',\n",
       " 'results',\n",
       " 'go',\n",
       " 'questions',\n",
       " 'later',\n",
       " 'mocking',\n",
       " 'like',\n",
       " 'money',\n",
       " 'come',\n",
       " 'on.',\n",
       " 'one',\n",
       " 'worst',\n",
       " 'use',\n",
       " 'long',\n",
       " 'time.',\n",
       " 'disliking',\n",
       " 'twitter',\n",
       " 'auto',\n",
       " 'shortening',\n",
       " 'links',\n",
       " 'overheating',\n",
       " 'many',\n",
       " 'british',\n",
       " 'sounding',\n",
       " 'people',\n",
       " 'texas',\n",
       " 'wilting',\n",
       " 'stress',\n",
       " 'location',\n",
       " 'pixieengine',\n",
       " 'says',\n",
       " 'future',\n",
       " 'location',\n",
       " 'location',\n",
       " 'location',\n",
       " 'know',\n",
       " 'week',\n",
       " 'tough',\n",
       " 'battery',\n",
       " 'help',\n",
       " 'jeebus',\n",
       " 'keep',\n",
       " 'correcting',\n",
       " 'curse',\n",
       " 'words.',\n",
       " 'launch',\n",
       " 'major',\n",
       " 'new',\n",
       " 'social',\n",
       " 'network',\n",
       " 'called',\n",
       " 'circles',\n",
       " 'updated',\n",
       " '*not',\n",
       " 'launched',\n",
       " 'soon',\n",
       " 'care',\n",
       " 'launch',\n",
       " 'product',\n",
       " 'wait',\n",
       " 'launch',\n",
       " 'product',\n",
       " 'exists',\n",
       " 'wait',\n",
       " 'product',\n",
       " 'exist',\n",
       " 'god',\n",
       " 'like',\n",
       " 'imac',\n",
       " 'macbook',\n",
       " 'blackberry',\n",
       " 'staring',\n",
       " 'enough',\n",
       " 'time',\n",
       " 'read',\n",
       " 'book',\n",
       " 'remember',\n",
       " 'ha',\n",
       " 'seems',\n",
       " 'like',\n",
       " 'gt',\n",
       " '\\x89ûï',\n",
       " 'news',\n",
       " 'sxswi',\n",
       " 'temporary',\n",
       " 'store',\n",
       " '\\x89û\\x9d',\n",
       " 'compiling',\n",
       " 'list',\n",
       " 'one',\n",
       " 'doc',\n",
       " 'taking',\n",
       " 'lot',\n",
       " 'longer',\n",
       " 'thought',\n",
       " 'many',\n",
       " 'parties',\n",
       " 'many',\n",
       " 'good',\n",
       " 'musicians.',\n",
       " 'day',\n",
       " '1',\n",
       " 'charger',\n",
       " 'kicked',\n",
       " 'bucket',\n",
       " 'heck',\n",
       " 'store',\n",
       " 'within',\n",
       " 'walking',\n",
       " 'distance',\n",
       " 'feel',\n",
       " 'unequipped',\n",
       " 'compared',\n",
       " 'everyone',\n",
       " 'else',\n",
       " 'dang',\n",
       " 'hm',\n",
       " 'need',\n",
       " 'another',\n",
       " '1',\n",
       " 'launch',\n",
       " 'major',\n",
       " 'new',\n",
       " 'social',\n",
       " 'network',\n",
       " 'called',\n",
       " 'circles',\n",
       " 'possibly',\n",
       " 'today',\n",
       " 'launching',\n",
       " 'anything',\n",
       " 'partying',\n",
       " 'nothing',\n",
       " 'teeming',\n",
       " 'sea',\n",
       " 'addicts',\n",
       " 'busy',\n",
       " 'twittering',\n",
       " 'ever',\n",
       " 'engage',\n",
       " 'one',\n",
       " 'anoth\\x89û_',\n",
       " 'cont',\n",
       " 'fan',\n",
       " 'new',\n",
       " 'trend',\n",
       " 'audience',\n",
       " 'sharing',\n",
       " 'opinions',\n",
       " 'via',\n",
       " 'holding',\n",
       " 'listen',\n",
       " 'tomlinson',\n",
       " 'tx',\n",
       " 'observer',\n",
       " 'says',\n",
       " 'subscription',\n",
       " 'data',\n",
       " 'holding',\n",
       " 'biggest',\n",
       " 'impediment',\n",
       " 'success',\n",
       " 'open',\n",
       " 'shop',\n",
       " 'concept',\n",
       " 'spend',\n",
       " 'waiting',\n",
       " 'packing',\n",
       " 'point',\n",
       " 'showing',\n",
       " 'fragmentation',\n",
       " 'left',\n",
       " 'pocket',\n",
       " 'guide',\n",
       " 'hotel',\n",
       " 'know',\n",
       " 'going',\n",
       " 'cope',\n",
       " 'say',\n",
       " 'usability',\n",
       " 'ipad/iphone',\n",
       " 'problem',\n",
       " 'living',\n",
       " 'stories',\n",
       " 'process',\n",
       " 'creating',\n",
       " 'content',\n",
       " 'change',\n",
       " 'interface',\n",
       " 'brilliant',\n",
       " 'read',\n",
       " 'attention',\n",
       " 'marketers',\n",
       " 'media',\n",
       " 'professionals',\n",
       " 'save',\n",
       " 'l.a.m.e',\n",
       " 'law',\n",
       " 'averages',\n",
       " 'better',\n",
       " 'buzz',\n",
       " 'circles',\n",
       " '______',\n",
       " 'new',\n",
       " 'rule',\n",
       " 'ooing',\n",
       " 'ahing',\n",
       " 'new',\n",
       " 'get',\n",
       " 'big',\n",
       " 'deal',\n",
       " 'everybody',\n",
       " 'one',\n",
       " 'says',\n",
       " 'connect',\n",
       " 'internet',\n",
       " 'even',\n",
       " 'though',\n",
       " 'wifi',\n",
       " 'works',\n",
       " 'great',\n",
       " 'computer',\n",
       " 'suggestions',\n",
       " 'q',\n",
       " 'social',\n",
       " 'sites',\n",
       " 'like',\n",
       " 'delicious',\n",
       " 'often',\n",
       " 'better',\n",
       " 'results',\n",
       " 'bing',\n",
       " 'read',\n",
       " 'selling',\n",
       " '2',\n",
       " 'release',\n",
       " 'day',\n",
       " 'good',\n",
       " 'lord',\n",
       " 'vortex',\n",
       " 'smugness',\n",
       " 'day',\n",
       " 'may',\n",
       " 'unbearable.',\n",
       " '\\x89ûï',\n",
       " '10',\n",
       " 'dangerous',\n",
       " 'apps',\n",
       " 'went',\n",
       " 'whole',\n",
       " 'day',\n",
       " 'w/out',\n",
       " 'laptop',\n",
       " 'amp',\n",
       " 'used',\n",
       " '1',\n",
       " 'things',\n",
       " 'missed',\n",
       " 'ftp',\n",
       " 'cloudapp',\n",
       " 'fast',\n",
       " 'typing',\n",
       " 'amp',\n",
       " 'skype',\n",
       " 'think',\n",
       " 'would',\n",
       " 'blackberry',\n",
       " 'gave',\n",
       " 'finger',\n",
       " 'guess',\n",
       " 'carry',\n",
       " 'around',\n",
       " 'lame',\n",
       " 'people',\n",
       " 'store',\n",
       " 'smell',\n",
       " 'great',\n",
       " 'thank',\n",
       " 'letting',\n",
       " 'test',\n",
       " 'drive',\n",
       " 'car',\n",
       " 'store',\n",
       " 'lets',\n",
       " 'hope',\n",
       " 'fix',\n",
       " 'phone',\n",
       " 'get',\n",
       " 'see',\n",
       " 'fail',\n",
       " 'social',\n",
       " 'another',\n",
       " 'day',\n",
       " 'okay',\n",
       " 'circles',\n",
       " 'debuting',\n",
       " 'today',\n",
       " 'trajan',\n",
       " 'destroyed',\n",
       " 'lt',\n",
       " 'title',\n",
       " 'gt',\n",
       " 'tag',\n",
       " 'websites',\n",
       " 'seo',\n",
       " 'open',\n",
       " 'graph',\n",
       " 'protocol',\n",
       " 'added',\n",
       " 'clean',\n",
       " 'title',\n",
       " 'tag',\n",
       " 'instead',\n",
       " 'know',\n",
       " 'u',\n",
       " 'u',\n",
       " 'selling',\n",
       " 'weve',\n",
       " 'never',\n",
       " 'talked',\n",
       " 'hate',\n",
       " 'product',\n",
       " 'check',\n",
       " 'heyo',\n",
       " '4',\n",
       " 'pop',\n",
       " 'store',\n",
       " 'line',\n",
       " 'ridic',\n",
       " 'trying',\n",
       " 'update',\n",
       " 'software',\n",
       " '4.0',\n",
       " 'download',\n",
       " 'far',\n",
       " 'luck',\n",
       " 'wonder',\n",
       " 'phone',\n",
       " 'mexico.',\n",
       " 'def',\n",
       " 'could',\n",
       " 'use',\n",
       " 'today',\n",
       " 'tweeting',\n",
       " 'via',\n",
       " 'sorta',\n",
       " 'pretty',\n",
       " 'much',\n",
       " 'sux.',\n",
       " 'dense',\n",
       " 'una',\n",
       " 'vuelta',\n",
       " 'por',\n",
       " 'para',\n",
       " 'ver',\n",
       " 'la',\n",
       " 'gran',\n",
       " 'diferencia..rt',\n",
       " 'revolution',\n",
       " 'clumsily',\n",
       " 'translated',\n",
       " 'google.',\n",
       " '\\x89÷¼',\n",
       " 'better',\n",
       " '\\x89÷_',\n",
       " '\\x89ã_',\n",
       " 'cocky',\n",
       " 'perhaps',\n",
       " 'separate',\n",
       " 'ipad2',\n",
       " 'store',\n",
       " 'would',\n",
       " 'good',\n",
       " 'idea',\n",
       " 'guess',\n",
       " 'need',\n",
       " 'extra',\n",
       " 'marketing',\n",
       " 'disgusted',\n",
       " 'battery',\n",
       " 'life',\n",
       " 'already',\n",
       " '11',\n",
       " '3:30',\n",
       " 'pm',\n",
       " 'blackberry',\n",
       " 'going',\n",
       " 'strong',\n",
       " 'thought',\n",
       " 'social',\n",
       " 'get',\n",
       " 'overblown',\n",
       " 'may',\n",
       " 'announcing',\n",
       " 'circles',\n",
       " 'today',\n",
       " 'classiest',\n",
       " 'fascist',\n",
       " 'company',\n",
       " 'america',\n",
       " 'really',\n",
       " 'elegant',\n",
       " 'lost',\n",
       " 'corrupted',\n",
       " 'crazy',\n",
       " 'hotels',\n",
       " 'good',\n",
       " 'times',\n",
       " 'aus',\n",
       " 'midday',\n",
       " 'outlet',\n",
       " 'blocked',\n",
       " 'immobile',\n",
       " 'booth',\n",
       " 'serves',\n",
       " 'purpose',\n",
       " 'taunt',\n",
       " '2011',\n",
       " 'novelty',\n",
       " 'news',\n",
       " 'apps',\n",
       " 'fades',\n",
       " 'fast',\n",
       " 'among',\n",
       " 'digital',\n",
       " 'delegates',\n",
       " 'via',\n",
       " 'xipad',\n",
       " 'true',\n",
       " 'lost',\n",
       " 'way',\n",
       " 'caring',\n",
       " 'much',\n",
       " 'business',\n",
       " 'vs.',\n",
       " 'shite',\n",
       " 'new',\n",
       " 'store',\n",
       " 'includes',\n",
       " 'uberguide',\n",
       " 'sponso\\x89û_',\n",
       " 'cont',\n",
       " 'know',\n",
       " 'started',\n",
       " 'lying',\n",
       " 'signal',\n",
       " 'strength.',\n",
       " 'nexus',\n",
       " '10x',\n",
       " 'useful',\n",
       " 'iphone4',\n",
       " 'amp',\n",
       " 'many',\n",
       " 'ppl',\n",
       " 'get',\n",
       " 'twitter',\n",
       " 'searches',\n",
       " 'update',\n",
       " 'hootsuite',\n",
       " 'tweetdeck',\n",
       " 'paper',\n",
       " 'phones',\n",
       " 'means',\n",
       " 'likely',\n",
       " 'useless',\n",
       " 'well',\n",
       " 'worked',\n",
       " '11',\n",
       " 'years',\n",
       " 'seen',\n",
       " 'lot',\n",
       " 'evil.',\n",
       " 'design',\n",
       " 'headaches',\n",
       " 'avoiding',\n",
       " 'pitfalls',\n",
       " 'new',\n",
       " 'design',\n",
       " 'challenges',\n",
       " 'disaster',\n",
       " 'died',\n",
       " 'middle',\n",
       " 'function',\n",
       " 'heading',\n",
       " 'store.',\n",
       " '1',\n",
       " 'march',\n",
       " '11',\n",
       " '2011',\n",
       " '4:59pm',\n",
       " 'pst',\n",
       " '2011',\n",
       " 'novelty',\n",
       " 'news',\n",
       " 'apps',\n",
       " 'fades',\n",
       " 'fast',\n",
       " 'among',\n",
       " 'digital',\n",
       " 'delegates',\n",
       " 'via',\n",
       " '2011',\n",
       " 'novelty',\n",
       " 'news',\n",
       " 'apps',\n",
       " 'fades',\n",
       " 'fast',\n",
       " 'among',\n",
       " 'digital',\n",
       " 'delegates',\n",
       " '2011',\n",
       " 'smackdown',\n",
       " 'bloody',\n",
       " 'banality',\n",
       " '2011',\n",
       " 'smackdown',\n",
       " 'bloody',\n",
       " 'banality',\n",
       " 'via',\n",
       " 'even',\n",
       " '10am',\n",
       " 'batt',\n",
       " '54',\n",
       " 'shit',\n",
       " 'selfish',\n",
       " 'brand',\n",
       " 'microsoft',\n",
       " 'served',\n",
       " 'brand',\n",
       " 'well.',\n",
       " 'talk',\n",
       " 'mistakes',\n",
       " 'building',\n",
       " 'fucking',\n",
       " 'mac',\n",
       " 'users',\n",
       " '..',\n",
       " 'cwebb',\n",
       " 'grant',\n",
       " 'hill',\n",
       " 'design',\n",
       " 'headaches',\n",
       " 'take',\n",
       " 'two',\n",
       " 'tablet',\n",
       " 'call',\n",
       " 'morning',\n",
       " 'brain',\n",
       " 'apologies',\n",
       " 'randy',\n",
       " 'ads',\n",
       " 'popping',\n",
       " 'search',\n",
       " 'results',\n",
       " 'algorithm',\n",
       " 'skewed',\n",
       " 'weekend',\n",
       " 'randy',\n",
       " 'queries',\n",
       " 'attendees.,2+',\n",
       " 'hour',\n",
       " 'wait',\n",
       " 'makeshift',\n",
       " 'store',\n",
       " '2.',\n",
       " 'make',\n",
       " 'sense',\n",
       " 'limit',\n",
       " 'content',\n",
       " 'specific',\n",
       " 'platform',\n",
       " 'web',\n",
       " 'interview',\n",
       " 'w/',\n",
       " 'guy',\n",
       " 'kawasaki',\n",
       " 'believe',\n",
       " 'god',\n",
       " 'explanation',\n",
       " 'continuous',\n",
       " 'survival',\n",
       " 'years.',\n",
       " 'lol',\n",
       " 'groupme',\n",
       " 'talks',\n",
       " 'store',\n",
       " 'approval',\n",
       " 'woes',\n",
       " 'would',\n",
       " 'big',\n",
       " 'group',\n",
       " 'people',\n",
       " 'would',\n",
       " 'agree',\n",
       " 'love',\n",
       " 'heard',\n",
       " 'quite',\n",
       " 'bit',\n",
       " 'grumbling',\n",
       " 'holding',\n",
       " 'back',\n",
       " 'features',\n",
       " '1',\n",
       " 'people',\n",
       " 'would',\n",
       " 'buy',\n",
       " 'v2.',\n",
       " 'meetups',\n",
       " 'work',\n",
       " 'well',\n",
       " 'least',\n",
       " 'ps',\n",
       " 'meetup',\n",
       " 'nfc',\n",
       " 'bc',\n",
       " 'standardization',\n",
       " ...]"
      ]
     },
     "execution_count": 39,
     "metadata": {},
     "output_type": "execute_result"
    }
   ],
   "source": [
    "neg_tokenized"
   ]
  },
  {
   "cell_type": "code",
   "execution_count": 40,
   "metadata": {},
   "outputs": [
    {
     "data": {
      "text/plain": [
       "[('2', 61),\n",
       " ('store', 44),\n",
       " ('new', 43),\n",
       " ('like', 39),\n",
       " ('design', 28),\n",
       " ('social', 28),\n",
       " ('people', 27),\n",
       " ('circles', 26),\n",
       " ('apps', 26),\n",
       " ('need', 25)]"
      ]
     },
     "execution_count": 40,
     "metadata": {},
     "output_type": "execute_result"
    }
   ],
   "source": [
    "neg_freq = FreqDist(neg_tokenized)\n",
    "neg_freq.most_common(10)"
   ]
  },
  {
   "cell_type": "code",
   "execution_count": 41,
   "metadata": {
    "scrolled": true
   },
   "outputs": [
    {
     "data": {
      "text/plain": [
       "[('3g', '3'),\n",
       " ('3', 'hrs'),\n",
       " ('hrs', 'tweeting'),\n",
       " ('tweeting', 'dead'),\n",
       " ('dead', 'need'),\n",
       " ('need', 'upgrade'),\n",
       " ('upgrade', 'plugin'),\n",
       " ('plugin', 'stations'),\n",
       " ('stations', 'hope')]"
      ]
     },
     "execution_count": 41,
     "metadata": {},
     "output_type": "execute_result"
    }
   ],
   "source": [
    "list(nltk.bigrams(neg_tokenized[:10]))"
   ]
  },
  {
   "cell_type": "code",
   "execution_count": 42,
   "metadata": {},
   "outputs": [
    {
     "data": {
      "image/png": "[encoded data removed]",
      "text/plain": [
       "<Figure size 720x864 with 1 Axes>"
      ]
     },
     "metadata": {},
     "output_type": "display_data"
    }
   ],
   "source": [
    "from wordcloud import WordCloud\n",
    "wordcloud = WordCloud(stopwords=stopwords_list,collocations=False)\n",
    "wordcloud.generate(','.join(pos_tokenized))\n",
    "plt.figure(figsize = (10, 12), facecolor = 'green', edgecolor = 'green') \n",
    "plt.imshow(wordcloud) \n",
    "plt.title('Most Frequent Positive Tweet Words')\n",
    "plt.axis('off');"
   ]
  },
  {
   "cell_type": "code",
   "execution_count": 43,
   "metadata": {},
   "outputs": [
    {
     "data": {
      "image/png": "[encoded data removed]",
      "text/plain": [
       "<Figure size 720x864 with 1 Axes>"
      ]
     },
     "metadata": {},
     "output_type": "display_data"
    }
   ],
   "source": [
    "wordcloud = WordCloud(stopwords=stopwords_list,collocations=False)\n",
    "wordcloud.generate(','.join(neg_tokenized))\n",
    "plt.figure(figsize = (10, 12), facecolor = 'red', edgecolor = 'red') \n",
    "plt.imshow(wordcloud) \n",
    "plt.title('Most Frequent Negative Tweet Words')\n",
    "plt.axis('off');"
   ]
  },
  {
   "cell_type": "markdown",
   "metadata": {},
   "source": [
    "Then we figured out the frequency distribution for all the stopped_tokens as well as the bigrams to see the top most common words used in the text."
   ]
  },
  {
   "cell_type": "markdown",
   "metadata": {},
   "source": [
    "Regular Expressions is then used to remove or highlight any URLs, hashtags, retweets, and metions that can be misunderstood when being ran through the model. The block of code below gathers all the URLS, hashtags, retweets, and mentions to have a glance at what's in our data."
   ]
  },
  {
   "cell_type": "markdown",
   "metadata": {},
   "source": [
    "In the code below we are able to find the URLs, hashtags, retweets, and mentions individually on any row. "
   ]
  },
  {
   "cell_type": "markdown",
   "metadata": {},
   "source": [
    "Now that our data is cleaned we are able to pre-process the data with the function below. It goes through the steps of finding all the urls, retweets, and hastags and replacing it with spaces, then Lemmatizing the text if necessary. Lemmatization is used to convert the different tenses into the same root word to mean the same thing.As well as detecting and getting rid of the pattern. If the text does not qualify for the adjustments it outputs the tokenized text.  "
   ]
  },
  {
   "cell_type": "markdown",
   "metadata": {},
   "source": [
    "A target column was created that indicated the tweet expressed a Positive emotion. Another column was created for tweets that had no emotion toward brand or product."
   ]
  },
  {
   "cell_type": "code",
   "execution_count": 44,
   "metadata": {},
   "outputs": [
    {
     "data": {
      "text/html": [
       "<div>\n",
       "<style scoped>\n",
       "    .dataframe tbody tr th:only-of-type {\n",
       "        vertical-align: middle;\n",
       "    }\n",
       "\n",
       "    .dataframe tbody tr th {\n",
       "        vertical-align: top;\n",
       "    }\n",
       "\n",
       "    .dataframe thead th {\n",
       "        text-align: right;\n",
       "    }\n",
       "</style>\n",
       "<table border=\"1\" class=\"dataframe\">\n",
       "  <thead>\n",
       "    <tr style=\"text-align: right;\">\n",
       "      <th></th>\n",
       "      <th>tweets</th>\n",
       "      <th>product</th>\n",
       "      <th>emotion</th>\n",
       "      <th>target</th>\n",
       "      <th>negative</th>\n",
       "      <th>neutral</th>\n",
       "    </tr>\n",
       "  </thead>\n",
       "  <tbody>\n",
       "    <tr>\n",
       "      <th>0</th>\n",
       "      <td>.@wesley83 I have a 3G iPhone. After 3 hrs twe...</td>\n",
       "      <td>iPhone</td>\n",
       "      <td>Negative emotion</td>\n",
       "      <td>0</td>\n",
       "      <td>1</td>\n",
       "      <td>0</td>\n",
       "    </tr>\n",
       "    <tr>\n",
       "      <th>1</th>\n",
       "      <td>@jessedee Know about @fludapp ? Awesome iPad/i...</td>\n",
       "      <td>iPad or iPhone App</td>\n",
       "      <td>Positive emotion</td>\n",
       "      <td>1</td>\n",
       "      <td>0</td>\n",
       "      <td>0</td>\n",
       "    </tr>\n",
       "    <tr>\n",
       "      <th>2</th>\n",
       "      <td>@swonderlin Can not wait for #iPad 2 also. The...</td>\n",
       "      <td>iPad</td>\n",
       "      <td>Positive emotion</td>\n",
       "      <td>1</td>\n",
       "      <td>0</td>\n",
       "      <td>0</td>\n",
       "    </tr>\n",
       "    <tr>\n",
       "      <th>3</th>\n",
       "      <td>@sxsw I hope this year's festival isn't as cra...</td>\n",
       "      <td>iPad or iPhone App</td>\n",
       "      <td>Negative emotion</td>\n",
       "      <td>0</td>\n",
       "      <td>1</td>\n",
       "      <td>0</td>\n",
       "    </tr>\n",
       "    <tr>\n",
       "      <th>4</th>\n",
       "      <td>@sxtxstate great stuff on Fri #SXSW: Marissa M...</td>\n",
       "      <td>Google</td>\n",
       "      <td>Positive emotion</td>\n",
       "      <td>1</td>\n",
       "      <td>0</td>\n",
       "      <td>0</td>\n",
       "    </tr>\n",
       "  </tbody>\n",
       "</table>\n",
       "</div>"
      ],
      "text/plain": [
       "                                              tweets             product  \\\n",
       "0  .@wesley83 I have a 3G iPhone. After 3 hrs twe...              iPhone   \n",
       "1  @jessedee Know about @fludapp ? Awesome iPad/i...  iPad or iPhone App   \n",
       "2  @swonderlin Can not wait for #iPad 2 also. The...                iPad   \n",
       "3  @sxsw I hope this year's festival isn't as cra...  iPad or iPhone App   \n",
       "4  @sxtxstate great stuff on Fri #SXSW: Marissa M...              Google   \n",
       "\n",
       "            emotion  target  negative  neutral  \n",
       "0  Negative emotion       0         1        0  \n",
       "1  Positive emotion       1         0        0  \n",
       "2  Positive emotion       1         0        0  \n",
       "3  Negative emotion       0         1        0  \n",
       "4  Positive emotion       1         0        0  "
      ]
     },
     "execution_count": 44,
     "metadata": {},
     "output_type": "execute_result"
    }
   ],
   "source": [
    "#add a target column where the emotion toward the product is positive. \n",
    "df['target'] = (df['emotion'] == 'Positive emotion').astype(int)\n",
    "df['negative'] = (df['emotion'] == 'Negative emotion').astype(int)\n",
    "df['neutral'] = (df['emotion'] == 'No emotion toward brand or product').astype(int)\n",
    "df.head()"
   ]
  },
  {
   "cell_type": "markdown",
   "metadata": {},
   "source": [
    "# Model 1\n"
   ]
  },
  {
   "cell_type": "code",
   "execution_count": 45,
   "metadata": {},
   "outputs": [],
   "source": [
    "y = df['emotion'].copy()\n",
    "X = df['tweets'].copy()"
   ]
  },
  {
   "cell_type": "code",
   "execution_count": 46,
   "metadata": {},
   "outputs": [],
   "source": [
    "X_train,X_test, y_train,y_test = train_test_split(X,y,stratify=y,random_state=45)"
   ]
  },
  {
   "cell_type": "markdown",
   "metadata": {},
   "source": [
    "We can see that the data was evenly distributed between both the train and test sets. "
   ]
  },
  {
   "cell_type": "code",
   "execution_count": 47,
   "metadata": {
    "scrolled": true
   },
   "outputs": [
    {
     "data": {
      "text/plain": [
       "No emotion toward brand or product    0.602954\n",
       "Positive emotion                      0.333184\n",
       "Negative emotion                      0.063862\n",
       "Name: emotion, dtype: float64"
      ]
     },
     "execution_count": 47,
     "metadata": {},
     "output_type": "execute_result"
    }
   ],
   "source": [
    "y_train.value_counts(normalize=True)"
   ]
  },
  {
   "cell_type": "code",
   "execution_count": 48,
   "metadata": {
    "scrolled": true
   },
   "outputs": [
    {
     "data": {
      "text/plain": [
       "No emotion toward brand or product    0.603132\n",
       "Positive emotion                      0.333333\n",
       "Negative emotion                      0.063535\n",
       "Name: emotion, dtype: float64"
      ]
     },
     "execution_count": 48,
     "metadata": {},
     "output_type": "execute_result"
    }
   ],
   "source": [
    "y_test.value_counts(normalize=True)"
   ]
  },
  {
   "cell_type": "code",
   "execution_count": 49,
   "metadata": {},
   "outputs": [
    {
     "data": {
      "text/plain": [
       "1"
      ]
     },
     "execution_count": 49,
     "metadata": {},
     "output_type": "execute_result"
    }
   ],
   "source": [
    "X_train.isna().sum()"
   ]
  },
  {
   "cell_type": "code",
   "execution_count": 50,
   "metadata": {},
   "outputs": [],
   "source": [
    "X_train.fillna('',inplace=True)"
   ]
  },
  {
   "cell_type": "code",
   "execution_count": 51,
   "metadata": {
    "scrolled": true
   },
   "outputs": [
    {
     "data": {
      "text/plain": [
       "0"
      ]
     },
     "execution_count": 51,
     "metadata": {},
     "output_type": "execute_result"
    }
   ],
   "source": [
    "X_train.isna().sum()"
   ]
  },
  {
   "cell_type": "code",
   "execution_count": 52,
   "metadata": {},
   "outputs": [],
   "source": [
    "string = ','.join(str(v) for v in corpus)\n",
    "patterns = [r\"(http?://\\w*\\.\\w*/+\\w+)\",\n",
    "            r'\\#\\w*',\n",
    "            r'RT [@]?\\w*:',\n",
    "            r'\\@\\w*',\n",
    "            r\"(?=\\S*['-])([a-zA-Z'-]+)\"]\n",
    "            \n",
    "clean_corpus = re.sub('|'.join(patterns), '', string)"
   ]
  },
  {
   "cell_type": "code",
   "execution_count": 53,
   "metadata": {},
   "outputs": [],
   "source": [
    "tokenizer = nltk.tokenize.word_tokenize(clean_corpus)"
   ]
  },
  {
   "cell_type": "code",
   "execution_count": 54,
   "metadata": {},
   "outputs": [],
   "source": [
    "tokenized = [word.lower() for word in tokenizer if word.lower() not in stopwords_list]"
   ]
  },
  {
   "cell_type": "code",
   "execution_count": 55,
   "metadata": {},
   "outputs": [
    {
     "data": {
      "text/plain": [
       "TfidfVectorizer(input=['3g', '3', 'hrs', 'tweeting', 'dead', 'need', 'upgrade',\n",
       "                       'plugin', 'stations', 'know', 'awesome', 'ipad/iphone',\n",
       "                       'likely', 'appreciate', 'design', 'giving', 'free', 'ts',\n",
       "                       'wait', '2', 'sale', 'hope', 'festival', 'crashy',\n",
       "                       'great', 'stuff', 'fri', 'mayer', 'tim', 'tech', ...],\n",
       "                stop_words=['i', 'me', 'my', 'myself', 'we', 'our', 'ours',\n",
       "                            'ourselves', 'you', \"you're\", \"you've\", \"you'll\",\n",
       "                            \"you'd\", 'your', 'yours', 'yourself', 'yourselves',\n",
       "                            'he', 'him', 'his', 'himself', 'she', \"she's\",\n",
       "                            'her', 'hers', 'herself', 'it', \"it's\", 'its',\n",
       "                            'itself', ...])"
      ]
     },
     "execution_count": 55,
     "metadata": {},
     "output_type": "execute_result"
    }
   ],
   "source": [
    "vectorizer = TfidfVectorizer(tokenized,stop_words=stopwords_list)\n",
    "vectorizer"
   ]
  },
  {
   "cell_type": "code",
   "execution_count": 56,
   "metadata": {},
   "outputs": [],
   "source": [
    "X_train_tfidf = vectorizer.fit_transform(X_train).astype(float)\n",
    "X_test_tfidf = vectorizer.transform(X_test).astype(float)"
   ]
  },
  {
   "cell_type": "code",
   "execution_count": 57,
   "metadata": {},
   "outputs": [
    {
     "data": {
      "text/plain": [
       "(6702, 8325)"
      ]
     },
     "execution_count": 57,
     "metadata": {},
     "output_type": "execute_result"
    }
   ],
   "source": [
    "X_train_tfidf.shape\n",
    "#(tweets, words)"
   ]
  },
  {
   "cell_type": "code",
   "execution_count": 58,
   "metadata": {},
   "outputs": [
    {
     "data": {
      "text/plain": [
       "RandomForestClassifier(class_weight='balanced')"
      ]
     },
     "execution_count": 58,
     "metadata": {},
     "output_type": "execute_result"
    }
   ],
   "source": [
    "## Make, fit model\n",
    "base_tree = RandomForestClassifier(class_weight='balanced')\n",
    "base_tree.fit(X_train_tfidf,y_train)"
   ]
  },
  {
   "cell_type": "code",
   "execution_count": 59,
   "metadata": {},
   "outputs": [],
   "source": [
    "## Get predictions\n",
    "y_hat_train = base_tree.predict(X_train_tfidf)\n",
    "y_hat_test =  base_tree.predict(X_test_tfidf)"
   ]
  },
  {
   "cell_type": "code",
   "execution_count": 60,
   "metadata": {},
   "outputs": [
    {
     "name": "stdout",
     "output_type": "stream",
     "text": [
      "                                    precision    recall  f1-score   support\n",
      "\n",
      "                  Negative emotion       0.73      0.21      0.33       142\n",
      "No emotion toward brand or product       0.71      0.86      0.78      1348\n",
      "                  Positive emotion       0.64      0.49      0.56       745\n",
      "\n",
      "                          accuracy                           0.69      2235\n",
      "                         macro avg       0.69      0.52      0.55      2235\n",
      "                      weighted avg       0.69      0.69      0.68      2235\n",
      "\n"
     ]
    },
    {
     "data": {
      "image/png": "[encoded data removed]",
      "text/plain": [
       "<Figure size 432x288 with 2 Axes>"
      ]
     },
     "metadata": {
      "needs_background": "light"
     },
     "output_type": "display_data"
    },
    {
     "data": {
      "image/png": "[encoded data removed]",
      "text/plain": [
       "<Figure size 720x576 with 1 Axes>"
      ]
     },
     "metadata": {
      "needs_background": "light"
     },
     "output_type": "display_data"
    }
   ],
   "source": [
    "evaluate_model(y_test, y_hat_test, X_test_tfidf, base_tree) "
   ]
  },
  {
   "cell_type": "code",
   "execution_count": 61,
   "metadata": {},
   "outputs": [
    {
     "data": {
      "text/plain": [
       "0.957624589674724"
      ]
     },
     "metadata": {},
     "output_type": "display_data"
    },
    {
     "data": {
      "text/plain": [
       "0.694407158836689"
      ]
     },
     "metadata": {},
     "output_type": "display_data"
    }
   ],
   "source": [
    "display(base_tree.score(X_train_tfidf, y_train))\n",
    "display(base_tree.score(X_test_tfidf, y_test))"
   ]
  },
  {
   "cell_type": "markdown",
   "metadata": {},
   "source": [
    "The base model has an accuracy of 70%"
   ]
  },
  {
   "cell_type": "markdown",
   "metadata": {},
   "source": [
    "# Model 2"
   ]
  },
  {
   "cell_type": "code",
   "execution_count": 62,
   "metadata": {},
   "outputs": [],
   "source": [
    "y = df['emotion'].copy()\n",
    "X = df['tweets'].copy()"
   ]
  },
  {
   "cell_type": "code",
   "execution_count": 63,
   "metadata": {},
   "outputs": [],
   "source": [
    "X_train,X_test, y_train,y_test = train_test_split(X,y,stratify=y,random_state=45)"
   ]
  },
  {
   "cell_type": "code",
   "execution_count": 64,
   "metadata": {},
   "outputs": [
    {
     "data": {
      "text/plain": [
       "No emotion toward brand or product    0.602954\n",
       "Positive emotion                      0.333184\n",
       "Negative emotion                      0.063862\n",
       "Name: emotion, dtype: float64"
      ]
     },
     "execution_count": 64,
     "metadata": {},
     "output_type": "execute_result"
    }
   ],
   "source": [
    "y_train.value_counts(normalize=True)"
   ]
  },
  {
   "cell_type": "code",
   "execution_count": 65,
   "metadata": {},
   "outputs": [
    {
     "data": {
      "text/plain": [
       "No emotion toward brand or product    0.603132\n",
       "Positive emotion                      0.333333\n",
       "Negative emotion                      0.063535\n",
       "Name: emotion, dtype: float64"
      ]
     },
     "execution_count": 65,
     "metadata": {},
     "output_type": "execute_result"
    }
   ],
   "source": [
    "y_test.value_counts(normalize=True)"
   ]
  },
  {
   "cell_type": "code",
   "execution_count": 66,
   "metadata": {},
   "outputs": [
    {
     "data": {
      "text/plain": [
       "0"
      ]
     },
     "execution_count": 66,
     "metadata": {},
     "output_type": "execute_result"
    }
   ],
   "source": [
    "X_train.fillna('',inplace=True)\n",
    "X_train.isna().sum()"
   ]
  },
  {
   "cell_type": "code",
   "execution_count": 67,
   "metadata": {},
   "outputs": [],
   "source": [
    "tokenizer = nltk.tokenize.word_tokenize(clean_corpus)"
   ]
  },
  {
   "cell_type": "code",
   "execution_count": 68,
   "metadata": {},
   "outputs": [],
   "source": [
    "tokenized = [word.lower() for word in tokenizer if word.lower() not in stopwords_list]"
   ]
  },
  {
   "cell_type": "code",
   "execution_count": 69,
   "metadata": {},
   "outputs": [
    {
     "data": {
      "text/plain": [
       "TfidfVectorizer(binary=True,\n",
       "                input=['3g', '3', 'hrs', 'tweeting', 'dead', 'need', 'upgrade',\n",
       "                       'plugin', 'stations', 'know', 'awesome', 'ipad/iphone',\n",
       "                       'likely', 'appreciate', 'design', 'giving', 'free', 'ts',\n",
       "                       'wait', '2', 'sale', 'hope', 'festival', 'crashy',\n",
       "                       'great', 'stuff', 'fri', 'mayer', 'tim', 'tech', ...],\n",
       "                stop_words=['i', 'me', 'my', 'myself', 'we', 'our', 'ours',\n",
       "                            'ourselves', 'you', \"you're\", \"you've\", \"you'll\",\n",
       "                            \"you'd\", 'your', 'yours', 'yourself', 'yourselves',\n",
       "                            'he', 'him', 'his', 'himself', 'she', \"she's\",\n",
       "                            'her', 'hers', 'herself', 'it', \"it's\", 'its',\n",
       "                            'itself', ...])"
      ]
     },
     "execution_count": 69,
     "metadata": {},
     "output_type": "execute_result"
    }
   ],
   "source": [
    "vectorizer = TfidfVectorizer(tokenized,stop_words=stopwords_list, binary=True)\n",
    "vectorizer"
   ]
  },
  {
   "cell_type": "code",
   "execution_count": 70,
   "metadata": {},
   "outputs": [],
   "source": [
    "X_train_tfidf = vectorizer.fit_transform(X_train).astype(float)\n",
    "X_test_tfidf = vectorizer.transform(X_test).astype(float)"
   ]
  },
  {
   "cell_type": "code",
   "execution_count": 71,
   "metadata": {},
   "outputs": [
    {
     "data": {
      "text/plain": [
       "RandomForestClassifier(class_weight='balanced')"
      ]
     },
     "execution_count": 71,
     "metadata": {},
     "output_type": "execute_result"
    }
   ],
   "source": [
    "best_tree = RandomForestClassifier(class_weight='balanced')\n",
    "best_tree.fit(X_train_tfidf,y_train)"
   ]
  },
  {
   "cell_type": "code",
   "execution_count": 72,
   "metadata": {},
   "outputs": [],
   "source": [
    "rf_random = RandomForestClassifier()\n",
    "# Number of trees in random forest\n",
    "n_estimators = [int(x) for x in np.linspace(start = 50, stop = 300, num = 5)]\n",
    "# Number of features to consider at every split\n",
    "max_features = ['auto', 'sqrt']\n",
    "# Maximum number of levels in tree\n",
    "max_depth = [int(x) for x in np.linspace(10, 110, num = 11)]\n",
    "max_depth.append(None)\n",
    "# Minimum number of samples required to split a node\n",
    "min_samples_split = [2, 5, 10]\n",
    "# Minimum number of samples required at each leaf node\n",
    "min_samples_leaf = [1, 2, 4]\n",
    "# Method of selecting samples for training each tree\n",
    "bootstrap = [True, False]\n",
    "# Create the random grid\n",
    "random_grid = {'n_estimators': n_estimators,\n",
    "               'max_features': max_features,\n",
    "               'max_depth': max_depth,\n",
    "               'min_samples_split': min_samples_split,\n",
    "               'min_samples_leaf': min_samples_leaf,\n",
    "               'bootstrap': bootstrap,\n",
    "               'criterion': ['gini','entropy']}"
   ]
  },
  {
   "cell_type": "code",
   "execution_count": 73,
   "metadata": {},
   "outputs": [],
   "source": [
    "rf_tree = RandomizedSearchCV(estimator = rf_random, \n",
    "                             param_distributions = random_grid, \n",
    "                             n_iter = 100,cv = 3, verbose=2, \n",
    "                             random_state=45, n_jobs = -1)"
   ]
  },
  {
   "cell_type": "code",
   "execution_count": 74,
   "metadata": {},
   "outputs": [
    {
     "name": "stdout",
     "output_type": "stream",
     "text": [
      "Fitting 3 folds for each of 100 candidates, totalling 300 fits\n"
     ]
    },
    {
     "name": "stderr",
     "output_type": "stream",
     "text": [
      "[Parallel(n_jobs=-1)]: Using backend LokyBackend with 4 concurrent workers.\n",
      "[Parallel(n_jobs=-1)]: Done  33 tasks      | elapsed:  1.4min\n",
      "[Parallel(n_jobs=-1)]: Done 154 tasks      | elapsed:  5.4min\n",
      "[Parallel(n_jobs=-1)]: Done 300 out of 300 | elapsed: 11.8min finished\n"
     ]
    },
    {
     "data": {
      "text/plain": [
       "RandomizedSearchCV(cv=3, estimator=RandomForestClassifier(), n_iter=100,\n",
       "                   n_jobs=-1,\n",
       "                   param_distributions={'bootstrap': [True, False],\n",
       "                                        'criterion': ['gini', 'entropy'],\n",
       "                                        'max_depth': [10, 20, 30, 40, 50, 60,\n",
       "                                                      70, 80, 90, 100, 110,\n",
       "                                                      None],\n",
       "                                        'max_features': ['auto', 'sqrt'],\n",
       "                                        'min_samples_leaf': [1, 2, 4],\n",
       "                                        'min_samples_split': [2, 5, 10],\n",
       "                                        'n_estimators': [50, 112, 175, 237,\n",
       "                                                         300]},\n",
       "                   random_state=45, verbose=2)"
      ]
     },
     "execution_count": 74,
     "metadata": {},
     "output_type": "execute_result"
    }
   ],
   "source": [
    "rf_tree.fit(X_train_tfidf, y_train)"
   ]
  },
  {
   "cell_type": "code",
   "execution_count": 75,
   "metadata": {},
   "outputs": [
    {
     "data": {
      "text/plain": [
       "{'n_estimators': 112,\n",
       " 'min_samples_split': 5,\n",
       " 'min_samples_leaf': 1,\n",
       " 'max_features': 'auto',\n",
       " 'max_depth': 110,\n",
       " 'criterion': 'gini',\n",
       " 'bootstrap': False}"
      ]
     },
     "metadata": {},
     "output_type": "display_data"
    }
   ],
   "source": [
    "display(rf_tree.best_params_)"
   ]
  },
  {
   "cell_type": "code",
   "execution_count": 76,
   "metadata": {},
   "outputs": [],
   "source": [
    "tree_2 = rf_tree.best_estimator_\n",
    "#tree with best params\n",
    "y_hat_test = tree_2.predict(X_test_tfidf)\n",
    "#predictions"
   ]
  },
  {
   "cell_type": "code",
   "execution_count": 77,
   "metadata": {},
   "outputs": [
    {
     "name": "stdout",
     "output_type": "stream",
     "text": [
      "                                    precision    recall  f1-score   support\n",
      "\n",
      "                  Negative emotion       0.74      0.12      0.21       142\n",
      "No emotion toward brand or product       0.70      0.91      0.79      1348\n",
      "                  Positive emotion       0.69      0.44      0.54       745\n",
      "\n",
      "                          accuracy                           0.70      2235\n",
      "                         macro avg       0.71      0.49      0.51      2235\n",
      "                      weighted avg       0.70      0.70      0.67      2235\n",
      "\n"
     ]
    },
    {
     "data": {
      "image/png": "[encoded data removed]",
      "text/plain": [
       "<Figure size 432x288 with 2 Axes>"
      ]
     },
     "metadata": {
      "needs_background": "light"
     },
     "output_type": "display_data"
    },
    {
     "data": {
      "image/png": "[encoded data removed]",
      "text/plain": [
       "<Figure size 720x576 with 1 Axes>"
      ]
     },
     "metadata": {
      "needs_background": "light"
     },
     "output_type": "display_data"
    }
   ],
   "source": [
    "evaluate_model(y_test, y_hat_test, X_test_tfidf, tree_2)"
   ]
  },
  {
   "cell_type": "code",
   "execution_count": 78,
   "metadata": {},
   "outputs": [
    {
     "data": {
      "text/plain": [
       "0.8646672635034318"
      ]
     },
     "metadata": {},
     "output_type": "display_data"
    },
    {
     "data": {
      "text/plain": [
       "0.7002237136465325"
      ]
     },
     "metadata": {},
     "output_type": "display_data"
    }
   ],
   "source": [
    "display(tree_2.score(X_train_tfidf, y_train))\n",
    "display(tree_2.score(X_test_tfidf, y_test))"
   ]
  },
  {
   "cell_type": "markdown",
   "metadata": {},
   "source": [
    "The best model has an accuracy of 71%"
   ]
  },
  {
   "cell_type": "markdown",
   "metadata": {},
   "source": [
    "# Results"
   ]
  },
  {
   "cell_type": "code",
   "execution_count": null,
   "metadata": {},
   "outputs": [],
   "source": []
  },
  {
   "cell_type": "code",
   "execution_count": null,
   "metadata": {},
   "outputs": [],
   "source": []
  },
  {
   "cell_type": "code",
   "execution_count": null,
   "metadata": {},
   "outputs": [],
   "source": []
  },
  {
   "cell_type": "code",
   "execution_count": null,
   "metadata": {},
   "outputs": [],
   "source": []
  },
  {
   "cell_type": "markdown",
   "metadata": {},
   "source": [
    "# Conclusion and Recommendations"
   ]
  },
  {
   "cell_type": "code",
   "execution_count": null,
   "metadata": {},
   "outputs": [],
   "source": []
  },
  {
   "cell_type": "code",
   "execution_count": null,
   "metadata": {},
   "outputs": [],
   "source": []
  },
  {
   "cell_type": "code",
   "execution_count": null,
   "metadata": {},
   "outputs": [],
   "source": []
  },
  {
   "cell_type": "code",
   "execution_count": null,
   "metadata": {},
   "outputs": [],
   "source": []
  }
 ],
 "metadata": {
  "kernelspec": {
   "display_name": "Python [conda env:learn-env] *",
   "language": "python",
   "name": "conda-env-learn-env-py"
  },
  "language_info": {
   "codemirror_mode": {
    "name": "ipython",
    "version": 3
   },
   "file_extension": ".py",
   "mimetype": "text/x-python",
   "name": "python",
   "nbconvert_exporter": "python",
   "pygments_lexer": "ipython3",
   "version": "3.6.9"
  },
  "toc": {
   "base_numbering": 1,
   "nav_menu": {},
   "number_sections": true,
   "sideBar": true,
   "skip_h1_title": false,
   "title_cell": "Table of Contents",
   "title_sidebar": "Contents",
   "toc_cell": false,
   "toc_position": {
    "height": "calc(100% - 180px)",
    "left": "10px",
    "top": "150px",
    "width": "165px"
   },
   "toc_section_display": true,
   "toc_window_display": true
  },
  "varInspector": {
   "cols": {
    "lenName": 16,
    "lenType": 16,
    "lenVar": 40
   },
   "kernels_config": {
    "python": {
     "delete_cmd_postfix": "",
     "delete_cmd_prefix": "del ",
     "library": "var_list.py",
     "varRefreshCmd": "print(var_dic_list())"
    },
    "r": {
     "delete_cmd_postfix": ") ",
     "delete_cmd_prefix": "rm(",
     "library": "var_list.r",
     "varRefreshCmd": "cat(var_dic_list()) "
    }
   },
   "types_to_exclude": [
    "module",
    "function",
    "builtin_function_or_method",
    "instance",
    "_Feature"
   ],
   "window_display": false
  }
 },
 "nbformat": 4,
 "nbformat_minor": 4
}
